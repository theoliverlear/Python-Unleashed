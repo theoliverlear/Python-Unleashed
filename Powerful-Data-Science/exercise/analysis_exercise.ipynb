{
 "cells": [
  {
   "metadata": {},
   "cell_type": "markdown",
   "source": [
    "# Exercise 2: Analyze Data Science Jobs\n",
    "Use Pandas to find key insights into the Data Science job market."
   ],
   "id": "adf3aad745f2fa9f"
  },
  {
   "metadata": {},
   "cell_type": "markdown",
   "source": "## Import Libraries",
   "id": "d1e224cd69b77943"
  },
  {
   "cell_type": "code",
   "id": "initial_id",
   "metadata": {
    "collapsed": true
   },
   "source": "# Your code here.",
   "outputs": [],
   "execution_count": null
  },
  {
   "metadata": {},
   "cell_type": "markdown",
   "source": "## Load the Dataset",
   "id": "763154a79daf8295"
  },
  {
   "metadata": {},
   "cell_type": "markdown",
   "source": "### Data Science Jobs",
   "id": "11115b245cb49a78"
  },
  {
   "metadata": {},
   "cell_type": "code",
   "source": [
    "# Your code here.\n",
    "# File location: \"../datasets/exercise/ds_salaries.csv\""
   ],
   "id": "320b17fbf359b21b",
   "outputs": [],
   "execution_count": null
  },
  {
   "metadata": {},
   "cell_type": "markdown",
   "source": "## Overview of the Dataset",
   "id": "58e698c924e9b0f4"
  },
  {
   "metadata": {},
   "cell_type": "code",
   "source": "# Your code here.",
   "id": "34155399f09d1fa6",
   "outputs": [],
   "execution_count": null
  },
  {
   "metadata": {},
   "cell_type": "markdown",
   "source": "## Get Metadata",
   "id": "618362a28ac470cb"
  },
  {
   "metadata": {},
   "cell_type": "markdown",
   "source": "### Size",
   "id": "2f0b3547fae5c33e"
  },
  {
   "metadata": {},
   "cell_type": "code",
   "source": "# Your code here.",
   "id": "26007b61df5ef794",
   "outputs": [],
   "execution_count": null
  },
  {
   "metadata": {},
   "cell_type": "markdown",
   "source": "### Column Names",
   "id": "28230e83caf4a4c6"
  },
  {
   "metadata": {},
   "cell_type": "code",
   "source": "# Your code here.",
   "id": "c11dd496087f738e",
   "outputs": [],
   "execution_count": null
  },
  {
   "metadata": {},
   "cell_type": "markdown",
   "source": "### Data Types",
   "id": "1f4202de4bb72c38"
  },
  {
   "metadata": {},
   "cell_type": "code",
   "source": "# Your code here.",
   "id": "f81236e59a98d016",
   "outputs": [],
   "execution_count": null
  },
  {
   "metadata": {},
   "cell_type": "markdown",
   "source": "## Count the Jobs",
   "id": "c0dfaf3e9ec233a2"
  },
  {
   "metadata": {},
   "cell_type": "code",
   "source": [
    "# Your code here.\n",
    "\n",
    "# Output should look like:\n",
    "# job_title        |  count   |\n",
    "# Data Scientist   |  12434   |\n",
    "# Data Engineer    |  10143   |\n",
    "# ..."
   ],
   "id": "414945c0902fd640",
   "outputs": [],
   "execution_count": null
  },
  {
   "metadata": {},
   "cell_type": "markdown",
   "source": "## Count the Full-Time/Part-Time Status",
   "id": "13a70b1b37ce1e20"
  },
  {
   "metadata": {},
   "cell_type": "code",
   "source": "# Your code here.",
   "id": "6b913b260f310f2c",
   "outputs": [],
   "execution_count": null
  },
  {
   "metadata": {},
   "cell_type": "markdown",
   "source": "## Compute the Overall Average Salary",
   "id": "5fc5be7a1aa269a4"
  },
  {
   "metadata": {},
   "cell_type": "code",
   "source": "# Your code here.",
   "id": "a6b11298e21775af",
   "outputs": [],
   "execution_count": null
  },
  {
   "metadata": {},
   "cell_type": "markdown",
   "source": "## Compute the Average Salary by Year (2021 - 2025)",
   "id": "652eefb7d5f4025a"
  },
  {
   "metadata": {},
   "cell_type": "code",
   "source": "# Your code here.",
   "id": "1a59b66dbcb8674f",
   "outputs": [],
   "execution_count": null
  },
  {
   "metadata": {},
   "cell_type": "markdown",
   "source": "## Find Salary Range",
   "id": "32dc9d2e423ec091"
  },
  {
   "metadata": {},
   "cell_type": "code",
   "source": "# Your code here.",
   "id": "4bc9f74762c3b2b5",
   "outputs": [],
   "execution_count": null
  },
  {
   "metadata": {},
   "cell_type": "markdown",
   "source": "## Salary Range by Job Title",
   "id": "ca5c693b42d37350"
  },
  {
   "metadata": {},
   "cell_type": "code",
   "source": "# Your code here.",
   "id": "c552805063db68b0",
   "outputs": [],
   "execution_count": null
  },
  {
   "metadata": {},
   "cell_type": "markdown",
   "source": "## Correlation between Salary and Remote Work",
   "id": "2dfe9fb750d64d79"
  },
  {
   "metadata": {},
   "cell_type": "code",
   "source": "# Your code here.",
   "id": "a9c32bc5f7e88381",
   "outputs": [],
   "execution_count": null
  }
 ],
 "metadata": {
  "kernelspec": {
   "display_name": "Python 3",
   "language": "python",
   "name": "python3"
  },
  "language_info": {
   "codemirror_mode": {
    "name": "ipython",
    "version": 2
   },
   "file_extension": ".py",
   "mimetype": "text/x-python",
   "name": "python",
   "nbconvert_exporter": "python",
   "pygments_lexer": "ipython2",
   "version": "2.7.6"
  }
 },
 "nbformat": 4,
 "nbformat_minor": 5
}
