{
 "cells": [
  {
   "metadata": {},
   "cell_type": "markdown",
   "source": "# Machine Learning",
   "id": "d1ed00f8b0202e07"
  },
  {
   "metadata": {},
   "cell_type": "markdown",
   "source": [
    "## Predicting the Stock Market with TensorFlow\n",
    "This model will predict the _next_ price of the stock market."
   ],
   "id": "1defada8e9346c2"
  },
  {
   "cell_type": "code",
   "id": "initial_id",
   "metadata": {
    "collapsed": true
   },
   "source": [
    "import pandas as pd\n",
    "import matplotlib.pyplot as plt\n",
    "from tensorflow.keras import Sequential\n",
    "from tensorflow.keras.layers import Dense\n",
    "from tensorflow.keras import Input\n",
    "from sklearn.preprocessing import MinMaxScaler\n",
    "from sklearn.model_selection import train_test_split"
   ],
   "outputs": [],
   "execution_count": null
  },
  {
   "metadata": {},
   "cell_type": "markdown",
   "source": "## Create Dataframe",
   "id": "a4a2bd8296e1bf3c"
  },
  {
   "metadata": {},
   "cell_type": "code",
   "source": [
    "df = pd.read_csv(\"../datasets/dow_jones.csv\")\n",
    "df.head()"
   ],
   "id": "a8169b1878103bc9",
   "outputs": [],
   "execution_count": null
  },
  {
   "metadata": {},
   "cell_type": "markdown",
   "source": "## Clean Dataframe",
   "id": "1438ed66e18ed9f8"
  },
  {
   "metadata": {},
   "cell_type": "markdown",
   "source": "### Create Datetime Objects",
   "id": "f6af43cf42906d95"
  },
  {
   "metadata": {},
   "cell_type": "code",
   "source": [
    "df[\"Date\"] = pd.to_datetime(df[\"Date\"])\n",
    "df = df.sort_values(\"Date\")\n",
    "df.head()"
   ],
   "id": "942e1b6fd65f44d1",
   "outputs": [],
   "execution_count": null
  },
  {
   "metadata": {},
   "cell_type": "markdown",
   "source": "## Mark Features and Create Target\n",
   "id": "abb1298ecc80017e"
  },
  {
   "metadata": {},
   "cell_type": "code",
   "source": [
    "feature_labels = [\"Price\", \"Open\", \"High\", \"Low\", \"Vol.\", \"Change %\"]\n",
    "df[\"Target\"] = df[\"Price\"].shift(-1)\n",
    "df = df.dropna()\n",
    "\n",
    "features = df[feature_labels]\n",
    "target = df[\"Target\"]"
   ],
   "id": "e5818a526e9f87de",
   "outputs": [],
   "execution_count": null
  },
  {
   "metadata": {},
   "cell_type": "markdown",
   "source": "## Fitting the Data Between 0 and 1",
   "id": "33c52c5128abd9a"
  },
  {
   "metadata": {},
   "cell_type": "code",
   "source": [
    "feature_scaler = MinMaxScaler()\n",
    "features_scaled = feature_scaler.fit_transform(features)\n",
    "\n",
    "target_scaler = MinMaxScaler()\n",
    "target = target.values.reshape(-1, 1)\n",
    "target_scaled = target_scaler.fit_transform(target)"
   ],
   "id": "d9437bc4ae5b2eec",
   "outputs": [],
   "execution_count": null
  },
  {
   "metadata": {},
   "cell_type": "markdown",
   "source": "## Split Between Train and Test Sets",
   "id": "dd7aba486f7ddb93"
  },
  {
   "metadata": {},
   "cell_type": "code",
   "source": "features_train, features_test, target_train, target_test = train_test_split(features_scaled, target_scaled, test_size=0.2, shuffle=False)",
   "id": "f217207f00500fd2",
   "outputs": [],
   "execution_count": null
  },
  {
   "metadata": {},
   "cell_type": "markdown",
   "source": "## Creating a Neural Network Model",
   "id": "7523af9564aa3191"
  },
  {
   "metadata": {},
   "cell_type": "code",
   "source": [
    "model = Sequential([\n",
    "    Input(shape=(features_train.shape[1],)),\n",
    "    Dense(64, activation='relu'),\n",
    "    Dense(64, activation='relu'),\n",
    "    Dense(1)\n",
    "])"
   ],
   "id": "85fb14d4fbacc231",
   "outputs": [],
   "execution_count": null
  },
  {
   "metadata": {},
   "cell_type": "markdown",
   "source": "![Neural Network Diagram](../../images/neural_network_diagram.png)",
   "id": "a7675f33b8f92d16"
  },
  {
   "metadata": {},
   "cell_type": "markdown",
   "source": "## Compile the Model",
   "id": "c80abae63c2c88a0"
  },
  {
   "metadata": {},
   "cell_type": "code",
   "source": [
    "model.compile(optimizer='adam', loss='mse', metrics=['mae'])\n",
    "model.summary()"
   ],
   "id": "4b1addebc574ca0a",
   "outputs": [],
   "execution_count": null
  },
  {
   "metadata": {},
   "cell_type": "markdown",
   "source": "## Train the Model",
   "id": "99256bbeaa1c3193"
  },
  {
   "metadata": {},
   "cell_type": "code",
   "source": "trained_model = model.fit(features_train, target_train, epochs=15, batch_size=32, validation_split=0.2)",
   "id": "95e6a12aa9d19831",
   "outputs": [],
   "execution_count": null
  },
  {
   "metadata": {},
   "cell_type": "markdown",
   "source": "## Analyze Model's Performance",
   "id": "7c0b1f08a2c6e3f8"
  },
  {
   "metadata": {},
   "cell_type": "code",
   "source": [
    "plt.plot(trained_model.history['loss'], label='Train Loss')\n",
    "plt.plot(trained_model.history['val_loss'], label='Val Loss')"
   ],
   "id": "5d978c6599450ac6",
   "outputs": [],
   "execution_count": null
  },
  {
   "metadata": {},
   "cell_type": "markdown",
   "source": "## Make a Prediction with Machine Learning",
   "id": "d82a620ced9e2b07"
  },
  {
   "metadata": {},
   "cell_type": "code",
   "source": [
    "last_record = features_scaled[-1].reshape(1, -1)\n",
    "predicted_price = model.predict(last_record)[0][0]\n",
    "predicted_price = target_scaler.inverse_transform([[predicted_price]])[0][0]\n",
    "print(f\"Predicted Price: ${predicted_price:.2f}\")\n"
   ],
   "id": "c4d16c7df2112d7",
   "outputs": [],
   "execution_count": null
  }
 ],
 "metadata": {
  "kernelspec": {
   "display_name": "Python 3",
   "language": "python",
   "name": "python3"
  },
  "language_info": {
   "codemirror_mode": {
    "name": "ipython",
    "version": 2
   },
   "file_extension": ".py",
   "mimetype": "text/x-python",
   "name": "python",
   "nbconvert_exporter": "python",
   "pygments_lexer": "ipython2",
   "version": "2.7.6"
  }
 },
 "nbformat": 4,
 "nbformat_minor": 5
}
