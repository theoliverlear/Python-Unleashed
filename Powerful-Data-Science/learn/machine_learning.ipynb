{
 "cells": [
  {
   "metadata": {},
   "cell_type": "markdown",
   "source": "# Machine Learning",
   "id": "d1ed00f8b0202e07"
  },
  {
   "metadata": {},
   "cell_type": "markdown",
   "source": [
    "## Predicting the Stock Market with TensorFlow\n",
    "This model will predict the _next_ price of the stock market."
   ],
   "id": "1defada8e9346c2"
  },
  {
   "cell_type": "code",
   "id": "initial_id",
   "metadata": {
    "collapsed": true,
    "ExecuteTime": {
     "end_time": "2025-04-13T00:34:10.112441Z",
     "start_time": "2025-04-13T00:34:10.107466Z"
    }
   },
   "source": [
    "import pandas as pd\n",
    "import numpy as np\n",
    "import matplotlib.pyplot as plt\n",
    "import tensorflow as tf\n",
    "from tensorflow.keras import Sequential\n",
    "from tensorflow.keras.layers import Dense\n",
    "from tensorflow.keras import Input\n",
    "from sklearn.preprocessing import MinMaxScaler\n",
    "from sklearn.model_selection import train_test_split"
   ],
   "outputs": [],
   "execution_count": 64
  },
  {
   "metadata": {},
   "cell_type": "markdown",
   "source": "## Create Dataframe",
   "id": "a4a2bd8296e1bf3c"
  },
  {
   "metadata": {
    "ExecuteTime": {
     "end_time": "2025-04-13T00:34:35.843772Z",
     "start_time": "2025-04-13T00:34:35.827638Z"
    }
   },
   "cell_type": "code",
   "source": [
    "df = pd.read_csv(\"../datasets/dow_jones.csv\")\n",
    "df.head()"
   ],
   "id": "a8169b1878103bc9",
   "outputs": [
    {
     "data": {
      "text/plain": [
       "         Date     Price      Open      High       Low    Vol.  Change %\n",
       "0  2010-05-14  10620.16  10780.68  10780.68  10509.89  256.50     -1.51\n",
       "1  2010-05-17  10625.83  10616.98  10707.30  10424.72  221.91      0.05\n",
       "2  2010-05-18  10510.95  10625.45  10760.05  10463.15  246.37     -1.08\n",
       "3  2010-05-19  10444.37  10505.70  10558.56  10306.22  266.34     -0.63\n",
       "4  2010-05-20  10068.01  10440.21  10440.21  10042.46  360.35     -3.60"
      ],
      "text/html": [
       "<div>\n",
       "<style scoped>\n",
       "    .dataframe tbody tr th:only-of-type {\n",
       "        vertical-align: middle;\n",
       "    }\n",
       "\n",
       "    .dataframe tbody tr th {\n",
       "        vertical-align: top;\n",
       "    }\n",
       "\n",
       "    .dataframe thead th {\n",
       "        text-align: right;\n",
       "    }\n",
       "</style>\n",
       "<table border=\"1\" class=\"dataframe\">\n",
       "  <thead>\n",
       "    <tr style=\"text-align: right;\">\n",
       "      <th></th>\n",
       "      <th>Date</th>\n",
       "      <th>Price</th>\n",
       "      <th>Open</th>\n",
       "      <th>High</th>\n",
       "      <th>Low</th>\n",
       "      <th>Vol.</th>\n",
       "      <th>Change %</th>\n",
       "    </tr>\n",
       "  </thead>\n",
       "  <tbody>\n",
       "    <tr>\n",
       "      <th>0</th>\n",
       "      <td>2010-05-14</td>\n",
       "      <td>10620.16</td>\n",
       "      <td>10780.68</td>\n",
       "      <td>10780.68</td>\n",
       "      <td>10509.89</td>\n",
       "      <td>256.50</td>\n",
       "      <td>-1.51</td>\n",
       "    </tr>\n",
       "    <tr>\n",
       "      <th>1</th>\n",
       "      <td>2010-05-17</td>\n",
       "      <td>10625.83</td>\n",
       "      <td>10616.98</td>\n",
       "      <td>10707.30</td>\n",
       "      <td>10424.72</td>\n",
       "      <td>221.91</td>\n",
       "      <td>0.05</td>\n",
       "    </tr>\n",
       "    <tr>\n",
       "      <th>2</th>\n",
       "      <td>2010-05-18</td>\n",
       "      <td>10510.95</td>\n",
       "      <td>10625.45</td>\n",
       "      <td>10760.05</td>\n",
       "      <td>10463.15</td>\n",
       "      <td>246.37</td>\n",
       "      <td>-1.08</td>\n",
       "    </tr>\n",
       "    <tr>\n",
       "      <th>3</th>\n",
       "      <td>2010-05-19</td>\n",
       "      <td>10444.37</td>\n",
       "      <td>10505.70</td>\n",
       "      <td>10558.56</td>\n",
       "      <td>10306.22</td>\n",
       "      <td>266.34</td>\n",
       "      <td>-0.63</td>\n",
       "    </tr>\n",
       "    <tr>\n",
       "      <th>4</th>\n",
       "      <td>2010-05-20</td>\n",
       "      <td>10068.01</td>\n",
       "      <td>10440.21</td>\n",
       "      <td>10440.21</td>\n",
       "      <td>10042.46</td>\n",
       "      <td>360.35</td>\n",
       "      <td>-3.60</td>\n",
       "    </tr>\n",
       "  </tbody>\n",
       "</table>\n",
       "</div>"
      ]
     },
     "execution_count": 65,
     "metadata": {},
     "output_type": "execute_result"
    }
   ],
   "execution_count": 65
  },
  {
   "metadata": {},
   "cell_type": "markdown",
   "source": "## Clean Dataframe",
   "id": "1438ed66e18ed9f8"
  },
  {
   "metadata": {},
   "cell_type": "markdown",
   "source": "### Create Datetime Objects",
   "id": "f6af43cf42906d95"
  },
  {
   "metadata": {
    "ExecuteTime": {
     "end_time": "2025-04-13T00:34:56.359882Z",
     "start_time": "2025-04-13T00:34:56.347142Z"
    }
   },
   "cell_type": "code",
   "source": [
    "df[\"Date\"] = pd.to_datetime(df[\"Date\"])\n",
    "df = df.sort_values(\"Date\")\n",
    "df.head()"
   ],
   "id": "942e1b6fd65f44d1",
   "outputs": [
    {
     "data": {
      "text/plain": [
       "        Date     Price      Open      High       Low    Vol.  Change %\n",
       "0 2010-05-14  10620.16  10780.68  10780.68  10509.89  256.50     -1.51\n",
       "1 2010-05-17  10625.83  10616.98  10707.30  10424.72  221.91      0.05\n",
       "2 2010-05-18  10510.95  10625.45  10760.05  10463.15  246.37     -1.08\n",
       "3 2010-05-19  10444.37  10505.70  10558.56  10306.22  266.34     -0.63\n",
       "4 2010-05-20  10068.01  10440.21  10440.21  10042.46  360.35     -3.60"
      ],
      "text/html": [
       "<div>\n",
       "<style scoped>\n",
       "    .dataframe tbody tr th:only-of-type {\n",
       "        vertical-align: middle;\n",
       "    }\n",
       "\n",
       "    .dataframe tbody tr th {\n",
       "        vertical-align: top;\n",
       "    }\n",
       "\n",
       "    .dataframe thead th {\n",
       "        text-align: right;\n",
       "    }\n",
       "</style>\n",
       "<table border=\"1\" class=\"dataframe\">\n",
       "  <thead>\n",
       "    <tr style=\"text-align: right;\">\n",
       "      <th></th>\n",
       "      <th>Date</th>\n",
       "      <th>Price</th>\n",
       "      <th>Open</th>\n",
       "      <th>High</th>\n",
       "      <th>Low</th>\n",
       "      <th>Vol.</th>\n",
       "      <th>Change %</th>\n",
       "    </tr>\n",
       "  </thead>\n",
       "  <tbody>\n",
       "    <tr>\n",
       "      <th>0</th>\n",
       "      <td>2010-05-14</td>\n",
       "      <td>10620.16</td>\n",
       "      <td>10780.68</td>\n",
       "      <td>10780.68</td>\n",
       "      <td>10509.89</td>\n",
       "      <td>256.50</td>\n",
       "      <td>-1.51</td>\n",
       "    </tr>\n",
       "    <tr>\n",
       "      <th>1</th>\n",
       "      <td>2010-05-17</td>\n",
       "      <td>10625.83</td>\n",
       "      <td>10616.98</td>\n",
       "      <td>10707.30</td>\n",
       "      <td>10424.72</td>\n",
       "      <td>221.91</td>\n",
       "      <td>0.05</td>\n",
       "    </tr>\n",
       "    <tr>\n",
       "      <th>2</th>\n",
       "      <td>2010-05-18</td>\n",
       "      <td>10510.95</td>\n",
       "      <td>10625.45</td>\n",
       "      <td>10760.05</td>\n",
       "      <td>10463.15</td>\n",
       "      <td>246.37</td>\n",
       "      <td>-1.08</td>\n",
       "    </tr>\n",
       "    <tr>\n",
       "      <th>3</th>\n",
       "      <td>2010-05-19</td>\n",
       "      <td>10444.37</td>\n",
       "      <td>10505.70</td>\n",
       "      <td>10558.56</td>\n",
       "      <td>10306.22</td>\n",
       "      <td>266.34</td>\n",
       "      <td>-0.63</td>\n",
       "    </tr>\n",
       "    <tr>\n",
       "      <th>4</th>\n",
       "      <td>2010-05-20</td>\n",
       "      <td>10068.01</td>\n",
       "      <td>10440.21</td>\n",
       "      <td>10440.21</td>\n",
       "      <td>10042.46</td>\n",
       "      <td>360.35</td>\n",
       "      <td>-3.60</td>\n",
       "    </tr>\n",
       "  </tbody>\n",
       "</table>\n",
       "</div>"
      ]
     },
     "execution_count": 66,
     "metadata": {},
     "output_type": "execute_result"
    }
   ],
   "execution_count": 66
  },
  {
   "metadata": {},
   "cell_type": "markdown",
   "source": "## Mark Features and Create Target\n",
   "id": "abb1298ecc80017e"
  },
  {
   "metadata": {
    "ExecuteTime": {
     "end_time": "2025-04-13T00:35:09.988736Z",
     "start_time": "2025-04-13T00:35:09.982342Z"
    }
   },
   "cell_type": "code",
   "source": [
    "feature_labels = [\"Price\", \"Open\", \"High\", \"Low\", \"Vol.\", \"Change %\"]\n",
    "df[\"Target\"] = df[\"Price\"].shift(-1)\n",
    "df = df.dropna()\n",
    "\n",
    "features = df[feature_labels]\n",
    "target = df[\"Target\"]"
   ],
   "id": "e5818a526e9f87de",
   "outputs": [],
   "execution_count": 67
  },
  {
   "metadata": {},
   "cell_type": "markdown",
   "source": "## Fitting the Data Between 0 and 1",
   "id": "33c52c5128abd9a"
  },
  {
   "metadata": {
    "ExecuteTime": {
     "end_time": "2025-04-13T00:35:31.535731Z",
     "start_time": "2025-04-13T00:35:31.527634Z"
    }
   },
   "cell_type": "code",
   "source": [
    "feature_scaler = MinMaxScaler()\n",
    "features_scaled = feature_scaler.fit_transform(features)\n",
    "\n",
    "target_scaler = MinMaxScaler()\n",
    "target = target.values.reshape(-1, 1)\n",
    "target_scaled = target_scaler.fit_transform(target)"
   ],
   "id": "d9437bc4ae5b2eec",
   "outputs": [],
   "execution_count": 68
  },
  {
   "metadata": {},
   "cell_type": "markdown",
   "source": "## Split Between Train and Test Sets",
   "id": "dd7aba486f7ddb93"
  },
  {
   "metadata": {
    "ExecuteTime": {
     "end_time": "2025-04-13T00:35:48.057073Z",
     "start_time": "2025-04-13T00:35:48.051048Z"
    }
   },
   "cell_type": "code",
   "source": "features_train, features_test, target_train, target_test = train_test_split(features_scaled, target_scaled, test_size=0.2, shuffle=False)",
   "id": "f217207f00500fd2",
   "outputs": [],
   "execution_count": 69
  },
  {
   "metadata": {},
   "cell_type": "markdown",
   "source": "## Creating a Neural Network Model",
   "id": "7523af9564aa3191"
  },
  {
   "metadata": {
    "ExecuteTime": {
     "end_time": "2025-04-13T00:35:54.287985Z",
     "start_time": "2025-04-13T00:35:54.267234Z"
    }
   },
   "cell_type": "code",
   "source": [
    "model = Sequential([\n",
    "    Input(shape=(features_train.shape[1],)),\n",
    "    Dense(64, activation='relu'),\n",
    "    Dense(64, activation='relu'),\n",
    "    Dense(1)\n",
    "])"
   ],
   "id": "85fb14d4fbacc231",
   "outputs": [],
   "execution_count": 70
  },
  {
   "metadata": {},
   "cell_type": "markdown",
   "source": "## Compile the Model",
   "id": "c80abae63c2c88a0"
  },
  {
   "metadata": {
    "ExecuteTime": {
     "end_time": "2025-04-13T00:35:59.453954Z",
     "start_time": "2025-04-13T00:35:59.438076Z"
    }
   },
   "cell_type": "code",
   "source": [
    "model.compile(optimizer='adam', loss='mse', metrics=['mae'])\n",
    "model.summary()"
   ],
   "id": "4b1addebc574ca0a",
   "outputs": [
    {
     "data": {
      "text/plain": [
       "\u001B[1mModel: \"sequential_6\"\u001B[0m\n"
      ],
      "text/html": [
       "<pre style=\"white-space:pre;overflow-x:auto;line-height:normal;font-family:Menlo,'DejaVu Sans Mono',consolas,'Courier New',monospace\"><span style=\"font-weight: bold\">Model: \"sequential_6\"</span>\n",
       "</pre>\n"
      ]
     },
     "metadata": {},
     "output_type": "display_data"
    },
    {
     "data": {
      "text/plain": [
       "┏━━━━━━━━━━━━━━━━━━━━━━━━━━━━━━━━━┳━━━━━━━━━━━━━━━━━━━━━━━━┳━━━━━━━━━━━━━━━┓\n",
       "┃\u001B[1m \u001B[0m\u001B[1mLayer (type)                   \u001B[0m\u001B[1m \u001B[0m┃\u001B[1m \u001B[0m\u001B[1mOutput Shape          \u001B[0m\u001B[1m \u001B[0m┃\u001B[1m \u001B[0m\u001B[1m      Param #\u001B[0m\u001B[1m \u001B[0m┃\n",
       "┡━━━━━━━━━━━━━━━━━━━━━━━━━━━━━━━━━╇━━━━━━━━━━━━━━━━━━━━━━━━╇━━━━━━━━━━━━━━━┩\n",
       "│ dense_18 (\u001B[38;5;33mDense\u001B[0m)                │ (\u001B[38;5;45mNone\u001B[0m, \u001B[38;5;34m64\u001B[0m)             │           \u001B[38;5;34m448\u001B[0m │\n",
       "├─────────────────────────────────┼────────────────────────┼───────────────┤\n",
       "│ dense_19 (\u001B[38;5;33mDense\u001B[0m)                │ (\u001B[38;5;45mNone\u001B[0m, \u001B[38;5;34m64\u001B[0m)             │         \u001B[38;5;34m4,160\u001B[0m │\n",
       "├─────────────────────────────────┼────────────────────────┼───────────────┤\n",
       "│ dense_20 (\u001B[38;5;33mDense\u001B[0m)                │ (\u001B[38;5;45mNone\u001B[0m, \u001B[38;5;34m1\u001B[0m)              │            \u001B[38;5;34m65\u001B[0m │\n",
       "└─────────────────────────────────┴────────────────────────┴───────────────┘\n"
      ],
      "text/html": [
       "<pre style=\"white-space:pre;overflow-x:auto;line-height:normal;font-family:Menlo,'DejaVu Sans Mono',consolas,'Courier New',monospace\">┏━━━━━━━━━━━━━━━━━━━━━━━━━━━━━━━━━┳━━━━━━━━━━━━━━━━━━━━━━━━┳━━━━━━━━━━━━━━━┓\n",
       "┃<span style=\"font-weight: bold\"> Layer (type)                    </span>┃<span style=\"font-weight: bold\"> Output Shape           </span>┃<span style=\"font-weight: bold\">       Param # </span>┃\n",
       "┡━━━━━━━━━━━━━━━━━━━━━━━━━━━━━━━━━╇━━━━━━━━━━━━━━━━━━━━━━━━╇━━━━━━━━━━━━━━━┩\n",
       "│ dense_18 (<span style=\"color: #0087ff; text-decoration-color: #0087ff\">Dense</span>)                │ (<span style=\"color: #00d7ff; text-decoration-color: #00d7ff\">None</span>, <span style=\"color: #00af00; text-decoration-color: #00af00\">64</span>)             │           <span style=\"color: #00af00; text-decoration-color: #00af00\">448</span> │\n",
       "├─────────────────────────────────┼────────────────────────┼───────────────┤\n",
       "│ dense_19 (<span style=\"color: #0087ff; text-decoration-color: #0087ff\">Dense</span>)                │ (<span style=\"color: #00d7ff; text-decoration-color: #00d7ff\">None</span>, <span style=\"color: #00af00; text-decoration-color: #00af00\">64</span>)             │         <span style=\"color: #00af00; text-decoration-color: #00af00\">4,160</span> │\n",
       "├─────────────────────────────────┼────────────────────────┼───────────────┤\n",
       "│ dense_20 (<span style=\"color: #0087ff; text-decoration-color: #0087ff\">Dense</span>)                │ (<span style=\"color: #00d7ff; text-decoration-color: #00d7ff\">None</span>, <span style=\"color: #00af00; text-decoration-color: #00af00\">1</span>)              │            <span style=\"color: #00af00; text-decoration-color: #00af00\">65</span> │\n",
       "└─────────────────────────────────┴────────────────────────┴───────────────┘\n",
       "</pre>\n"
      ]
     },
     "metadata": {},
     "output_type": "display_data"
    },
    {
     "data": {
      "text/plain": [
       "\u001B[1m Total params: \u001B[0m\u001B[38;5;34m4,673\u001B[0m (18.25 KB)\n"
      ],
      "text/html": [
       "<pre style=\"white-space:pre;overflow-x:auto;line-height:normal;font-family:Menlo,'DejaVu Sans Mono',consolas,'Courier New',monospace\"><span style=\"font-weight: bold\"> Total params: </span><span style=\"color: #00af00; text-decoration-color: #00af00\">4,673</span> (18.25 KB)\n",
       "</pre>\n"
      ]
     },
     "metadata": {},
     "output_type": "display_data"
    },
    {
     "data": {
      "text/plain": [
       "\u001B[1m Trainable params: \u001B[0m\u001B[38;5;34m4,673\u001B[0m (18.25 KB)\n"
      ],
      "text/html": [
       "<pre style=\"white-space:pre;overflow-x:auto;line-height:normal;font-family:Menlo,'DejaVu Sans Mono',consolas,'Courier New',monospace\"><span style=\"font-weight: bold\"> Trainable params: </span><span style=\"color: #00af00; text-decoration-color: #00af00\">4,673</span> (18.25 KB)\n",
       "</pre>\n"
      ]
     },
     "metadata": {},
     "output_type": "display_data"
    },
    {
     "data": {
      "text/plain": [
       "\u001B[1m Non-trainable params: \u001B[0m\u001B[38;5;34m0\u001B[0m (0.00 B)\n"
      ],
      "text/html": [
       "<pre style=\"white-space:pre;overflow-x:auto;line-height:normal;font-family:Menlo,'DejaVu Sans Mono',consolas,'Courier New',monospace\"><span style=\"font-weight: bold\"> Non-trainable params: </span><span style=\"color: #00af00; text-decoration-color: #00af00\">0</span> (0.00 B)\n",
       "</pre>\n"
      ]
     },
     "metadata": {},
     "output_type": "display_data"
    }
   ],
   "execution_count": 71
  },
  {
   "metadata": {},
   "cell_type": "markdown",
   "source": "## Train the Model",
   "id": "99256bbeaa1c3193"
  },
  {
   "metadata": {
    "ExecuteTime": {
     "end_time": "2025-04-13T00:36:35.928830Z",
     "start_time": "2025-04-13T00:36:10.545594Z"
    }
   },
   "cell_type": "code",
   "source": "trained_model = model.fit(features_train, target_train, epochs=15, batch_size=32, validation_split=0.2)",
   "id": "95e6a12aa9d19831",
   "outputs": [
    {
     "name": "stdout",
     "output_type": "stream",
     "text": [
      "Epoch 1/15\n",
      "\u001B[1m49/49\u001B[0m \u001B[32m━━━━━━━━━━━━━━━━━━━━\u001B[0m\u001B[37m\u001B[0m \u001B[1m2s\u001B[0m 28ms/step - loss: 0.0300 - mae: 0.1268 - val_loss: 0.0019 - val_mae: 0.0366\n",
      "Epoch 2/15\n",
      "\u001B[1m49/49\u001B[0m \u001B[32m━━━━━━━━━━━━━━━━━━━━\u001B[0m\u001B[37m\u001B[0m \u001B[1m2s\u001B[0m 26ms/step - loss: 2.1095e-04 - mae: 0.0113 - val_loss: 0.0017 - val_mae: 0.0354\n",
      "Epoch 3/15\n",
      "\u001B[1m49/49\u001B[0m \u001B[32m━━━━━━━━━━━━━━━━━━━━\u001B[0m\u001B[37m\u001B[0m \u001B[1m2s\u001B[0m 25ms/step - loss: 1.2174e-04 - mae: 0.0084 - val_loss: 0.0013 - val_mae: 0.0310\n",
      "Epoch 4/15\n",
      "\u001B[1m49/49\u001B[0m \u001B[32m━━━━━━━━━━━━━━━━━━━━\u001B[0m\u001B[37m\u001B[0m \u001B[1m2s\u001B[0m 25ms/step - loss: 1.0076e-04 - mae: 0.0078 - val_loss: 0.0011 - val_mae: 0.0281\n",
      "Epoch 5/15\n",
      "\u001B[1m49/49\u001B[0m \u001B[32m━━━━━━━━━━━━━━━━━━━━\u001B[0m\u001B[37m\u001B[0m \u001B[1m2s\u001B[0m 25ms/step - loss: 8.2994e-05 - mae: 0.0071 - val_loss: 0.0010 - val_mae: 0.0277\n",
      "Epoch 6/15\n",
      "\u001B[1m49/49\u001B[0m \u001B[32m━━━━━━━━━━━━━━━━━━━━\u001B[0m\u001B[37m\u001B[0m \u001B[1m2s\u001B[0m 25ms/step - loss: 7.6928e-05 - mae: 0.0067 - val_loss: 5.3339e-04 - val_mae: 0.0187\n",
      "Epoch 7/15\n",
      "\u001B[1m49/49\u001B[0m \u001B[32m━━━━━━━━━━━━━━━━━━━━\u001B[0m\u001B[37m\u001B[0m \u001B[1m2s\u001B[0m 25ms/step - loss: 6.6281e-05 - mae: 0.0061 - val_loss: 6.2377e-04 - val_mae: 0.0206\n",
      "Epoch 8/15\n",
      "\u001B[1m49/49\u001B[0m \u001B[32m━━━━━━━━━━━━━━━━━━━━\u001B[0m\u001B[37m\u001B[0m \u001B[1m2s\u001B[0m 25ms/step - loss: 6.3629e-05 - mae: 0.0058 - val_loss: 5.0258e-04 - val_mae: 0.0181\n",
      "Epoch 9/15\n",
      "\u001B[1m49/49\u001B[0m \u001B[32m━━━━━━━━━━━━━━━━━━━━\u001B[0m\u001B[37m\u001B[0m \u001B[1m2s\u001B[0m 25ms/step - loss: 5.7579e-05 - mae: 0.0058 - val_loss: 3.4499e-04 - val_mae: 0.0142\n",
      "Epoch 10/15\n",
      "\u001B[1m49/49\u001B[0m \u001B[32m━━━━━━━━━━━━━━━━━━━━\u001B[0m\u001B[37m\u001B[0m \u001B[1m2s\u001B[0m 25ms/step - loss: 6.3105e-05 - mae: 0.0058 - val_loss: 5.8054e-04 - val_mae: 0.0198\n",
      "Epoch 11/15\n",
      "\u001B[1m49/49\u001B[0m \u001B[32m━━━━━━━━━━━━━━━━━━━━\u001B[0m\u001B[37m\u001B[0m \u001B[1m2s\u001B[0m 25ms/step - loss: 5.4883e-05 - mae: 0.0055 - val_loss: 2.8450e-04 - val_mae: 0.0126\n",
      "Epoch 12/15\n",
      "\u001B[1m49/49\u001B[0m \u001B[32m━━━━━━━━━━━━━━━━━━━━\u001B[0m\u001B[37m\u001B[0m \u001B[1m2s\u001B[0m 25ms/step - loss: 5.2397e-05 - mae: 0.0054 - val_loss: 2.7692e-04 - val_mae: 0.0125\n",
      "Epoch 13/15\n",
      "\u001B[1m49/49\u001B[0m \u001B[32m━━━━━━━━━━━━━━━━━━━━\u001B[0m\u001B[37m\u001B[0m \u001B[1m2s\u001B[0m 25ms/step - loss: 5.3964e-05 - mae: 0.0054 - val_loss: 7.5910e-04 - val_mae: 0.0231\n",
      "Epoch 14/15\n",
      "\u001B[1m49/49\u001B[0m \u001B[32m━━━━━━━━━━━━━━━━━━━━\u001B[0m\u001B[37m\u001B[0m \u001B[1m2s\u001B[0m 25ms/step - loss: 5.3037e-05 - mae: 0.0054 - val_loss: 3.9930e-04 - val_mae: 0.0155\n",
      "Epoch 15/15\n",
      "\u001B[1m49/49\u001B[0m \u001B[32m━━━━━━━━━━━━━━━━━━━━\u001B[0m\u001B[37m\u001B[0m \u001B[1m2s\u001B[0m 25ms/step - loss: 5.1029e-05 - mae: 0.0053 - val_loss: 2.1116e-04 - val_mae: 0.0109\n"
     ]
    }
   ],
   "execution_count": 72
  },
  {
   "metadata": {},
   "cell_type": "markdown",
   "source": "## Analyze Model's Performance",
   "id": "7c0b1f08a2c6e3f8"
  },
  {
   "metadata": {
    "ExecuteTime": {
     "end_time": "2025-04-13T00:36:44.964716Z",
     "start_time": "2025-04-13T00:36:44.856624Z"
    }
   },
   "cell_type": "code",
   "source": [
    "plt.plot(trained_model.history['loss'], label='Train Loss')\n",
    "plt.plot(trained_model.history['val_loss'], label='Val Loss')"
   ],
   "id": "5d978c6599450ac6",
   "outputs": [
    {
     "data": {
      "text/plain": [
       "[<matplotlib.lines.Line2D at 0x25666e5aa80>]"
      ]
     },
     "execution_count": 73,
     "metadata": {},
     "output_type": "execute_result"
    },
    {
     "data": {
      "text/plain": [
       "<Figure size 640x480 with 1 Axes>"
      ],
      "image/png": "[encoded data removed]"
     },
     "metadata": {},
     "output_type": "display_data"
    }
   ],
   "execution_count": 73
  },
  {
   "metadata": {},
   "cell_type": "markdown",
   "source": "## Make a Prediction with Machine Learning",
   "id": "d82a620ced9e2b07"
  },
  {
   "metadata": {
    "ExecuteTime": {
     "end_time": "2025-04-13T00:36:55.319102Z",
     "start_time": "2025-04-13T00:36:54.477764Z"
    }
   },
   "cell_type": "code",
   "source": [
    "last_record = features_scaled[-1].reshape(1, -1)\n",
    "predicted_price = model.predict(last_record)[0][0]\n",
    "predicted_price = target_scaler.inverse_transform([[predicted_price]])[0][0]\n",
    "print(f\"Predicted Price: ${predicted_price:.2f}\")\n"
   ],
   "id": "c4d16c7df2112d7",
   "outputs": [
    {
     "name": "stdout",
     "output_type": "stream",
     "text": [
      "\u001B[1m1/1\u001B[0m \u001B[32m━━━━━━━━━━━━━━━━━━━━\u001B[0m\u001B[37m\u001B[0m \u001B[1m1s\u001B[0m 794ms/step\n",
      "Predicted Price: 27554.701777716873\n"
     ]
    }
   ],
   "execution_count": 74
  }
 ],
 "metadata": {
  "kernelspec": {
   "display_name": "Python 3",
   "language": "python",
   "name": "python3"
  },
  "language_info": {
   "codemirror_mode": {
    "name": "ipython",
    "version": 2
   },
   "file_extension": ".py",
   "mimetype": "text/x-python",
   "name": "python",
   "nbconvert_exporter": "python",
   "pygments_lexer": "ipython2",
   "version": "2.7.6"
  }
 },
 "nbformat": 4,
 "nbformat_minor": 5
}
