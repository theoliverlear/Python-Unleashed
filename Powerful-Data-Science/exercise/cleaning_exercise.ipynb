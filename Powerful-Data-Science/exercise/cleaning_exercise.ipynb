{
 "cells": [
  {
   "metadata": {},
   "cell_type": "markdown",
   "source": [
    "# Exercise 1: Clean Up Employment Survey Data\n",
    "The dataset is a survey of various employees on their employment status and income. The dataset is unnormalized, and you need to find inconsistencies and clean it up."
   ],
   "id": "4e4f949fa65f0e2d"
  },
  {
   "metadata": {},
   "cell_type": "markdown",
   "source": "## Import Libraries",
   "id": "24c54b4ebeb14edf"
  },
  {
   "cell_type": "code",
   "id": "initial_id",
   "metadata": {
    "collapsed": true
   },
   "source": "# Your code here.",
   "outputs": [],
   "execution_count": null
  },
  {
   "metadata": {},
   "cell_type": "markdown",
   "source": "## Load the Dataset",
   "id": "c73edb993222959c"
  },
  {
   "metadata": {},
   "cell_type": "markdown",
   "source": "### Employment Survey",
   "id": "25ca0834771aceef"
  },
  {
   "metadata": {},
   "cell_type": "code",
   "source": [
    "# Your code here.\n",
    "# File location: \"../datasets/exercise/employment_survey.csv\""
   ],
   "id": "6cfed2120e8bd7e4",
   "outputs": [],
   "execution_count": null
  },
  {
   "metadata": {},
   "cell_type": "markdown",
   "source": "## Overview of the Dataset",
   "id": "d00a31f436afeea6"
  },
  {
   "metadata": {},
   "cell_type": "code",
   "source": "# Your code here.",
   "id": "4b01a8805a0720f3",
   "outputs": [],
   "execution_count": null
  },
  {
   "metadata": {},
   "cell_type": "markdown",
   "source": [
    "---\n",
    "\n",
    "## Rename Columns"
   ],
   "id": "e37972aa2ac2fa5e"
  },
  {
   "metadata": {},
   "cell_type": "code",
   "source": "# Your code here.",
   "id": "e7bf5a2c34f6470b",
   "outputs": [],
   "execution_count": null
  },
  {
   "metadata": {},
   "cell_type": "markdown",
   "source": "## View Updated Columns",
   "id": "4773acf56b565614"
  },
  {
   "metadata": {},
   "cell_type": "code",
   "source": "# Your code here.",
   "id": "bdd99f2df4f50851",
   "outputs": [],
   "execution_count": null
  },
  {
   "metadata": {},
   "cell_type": "markdown",
   "source": [
    "---\n",
    "\n",
    "## Age Data to One Datatype"
   ],
   "id": "d94af9ace0335cd"
  },
  {
   "metadata": {},
   "cell_type": "code",
   "source": "# Your code here.",
   "id": "7302d48131ca1306",
   "outputs": [],
   "execution_count": null
  },
  {
   "metadata": {},
   "cell_type": "markdown",
   "source": "## View Updated Entries",
   "id": "d0201e083f91c8ba"
  },
  {
   "metadata": {},
   "cell_type": "code",
   "source": "# Your code here.",
   "id": "24d1d359bab8b443",
   "outputs": [],
   "execution_count": null
  },
  {
   "metadata": {},
   "cell_type": "markdown",
   "source": [
    "---\n",
    "\n",
    "## Ensure Consistent Results for Gender"
   ],
   "id": "b78829d630d372f"
  },
  {
   "metadata": {},
   "cell_type": "code",
   "source": "# Your code here.",
   "id": "95877b4f181affe0",
   "outputs": [],
   "execution_count": null
  },
  {
   "metadata": {},
   "cell_type": "markdown",
   "source": "## View Updated Entries",
   "id": "8a1c5a7f0110f53f"
  },
  {
   "metadata": {},
   "cell_type": "code",
   "source": "# Your code here.",
   "id": "3b7ff304cc6b355a",
   "outputs": [],
   "execution_count": null
  },
  {
   "metadata": {},
   "cell_type": "markdown",
   "source": [
    "---\n",
    "\n",
    "## Make Employment Status a Boolean"
   ],
   "id": "5600187637e06641"
  },
  {
   "metadata": {},
   "cell_type": "code",
   "source": "# Your code here.",
   "id": "7d02ff30fd17de24",
   "outputs": [],
   "execution_count": null
  },
  {
   "metadata": {},
   "cell_type": "markdown",
   "source": "## View Updated Entries",
   "id": "ae8603a2fda0dd0"
  },
  {
   "metadata": {},
   "cell_type": "code",
   "source": "# Your code here.",
   "id": "6ab0bacfaac9d769",
   "outputs": [],
   "execution_count": null
  },
  {
   "metadata": {},
   "cell_type": "markdown",
   "source": [
    "---\n",
    "\n",
    "## Use Title Case for Names"
   ],
   "id": "cd45436b6696f72d"
  },
  {
   "metadata": {},
   "cell_type": "code",
   "source": "# Your code here.",
   "id": "a5dabc6c67b378dc",
   "outputs": [],
   "execution_count": null
  },
  {
   "metadata": {},
   "cell_type": "markdown",
   "source": "## View Updated Entries",
   "id": "142ef52f0e85ac78"
  },
  {
   "metadata": {},
   "cell_type": "code",
   "source": "# Your code here.",
   "id": "fe60cd2a16221c9f",
   "outputs": [],
   "execution_count": null
  },
  {
   "metadata": {},
   "cell_type": "markdown",
   "source": [
    "---\n",
    "\n",
    "## Use Title Case for Job Titles"
   ],
   "id": "5103b786aea6190f"
  },
  {
   "metadata": {},
   "cell_type": "code",
   "source": "# Your code here.",
   "id": "33978bb6fd3c1f68",
   "outputs": [],
   "execution_count": null
  },
  {
   "metadata": {},
   "cell_type": "markdown",
   "source": "## View Updated Entries",
   "id": "d61142dc24a23c74"
  },
  {
   "metadata": {},
   "cell_type": "code",
   "source": "# Your code here.",
   "id": "f6b64df4e0e43f5a",
   "outputs": [],
   "execution_count": null
  },
  {
   "metadata": {},
   "cell_type": "markdown",
   "source": [
    "---\n",
    "\n",
    "## Use Python Function to Convert Dates"
   ],
   "id": "d76f1e471400e052"
  },
  {
   "metadata": {},
   "cell_type": "code",
   "source": "# Your code here.",
   "id": "26567693af0dd491",
   "outputs": [],
   "execution_count": null
  },
  {
   "metadata": {},
   "cell_type": "markdown",
   "source": "## View Final Dataset",
   "id": "339e96e4f3e62bd3"
  },
  {
   "metadata": {},
   "cell_type": "code",
   "source": "# Your code here.",
   "id": "6cb0cde725af22cb",
   "outputs": [],
   "execution_count": null
  }
 ],
 "metadata": {
  "kernelspec": {
   "display_name": "Python 3",
   "language": "python",
   "name": "python3"
  },
  "language_info": {
   "codemirror_mode": {
    "name": "ipython",
    "version": 2
   },
   "file_extension": ".py",
   "mimetype": "text/x-python",
   "name": "python",
   "nbconvert_exporter": "python",
   "pygments_lexer": "ipython2",
   "version": "2.7.6"
  }
 },
 "nbformat": 4,
 "nbformat_minor": 5
}
