{
 "cells": [
  {
   "metadata": {},
   "cell_type": "markdown",
   "source": "# Analyzing Data with Pandas",
   "id": "27de55817f20bfa3"
  },
  {
   "metadata": {},
   "cell_type": "markdown",
   "source": "### Import Libraries",
   "id": "b1375fd63b0a5094"
  },
  {
   "metadata": {
    "collapsed": true,
    "ExecuteTime": {
     "end_time": "2025-04-14T00:12:29.302055Z",
     "start_time": "2025-04-14T00:12:29.293413Z"
    }
   },
   "cell_type": "code",
   "source": "import pandas as pd",
   "id": "initial_id",
   "outputs": [],
   "execution_count": 67
  },
  {
   "metadata": {},
   "cell_type": "markdown",
   "source": [
    "## Load Dataset\n",
    "#### Student Mental Health"
   ],
   "id": "aac71fcedbc5f96a"
  },
  {
   "metadata": {
    "ExecuteTime": {
     "end_time": "2025-04-14T00:12:29.593656Z",
     "start_time": "2025-04-14T00:12:29.574727Z"
    }
   },
   "cell_type": "code",
   "source": "df = pd.read_csv(\"../datasets/updated/student_mental_health.csv\")",
   "id": "297fb8626d64652a",
   "outputs": [],
   "execution_count": 68
  },
  {
   "metadata": {},
   "cell_type": "markdown",
   "source": "## Overview of the Dataset",
   "id": "bccb5e149fc0973"
  },
  {
   "metadata": {
    "ExecuteTime": {
     "end_time": "2025-04-14T00:12:29.626784Z",
     "start_time": "2025-04-14T00:12:29.612780Z"
    }
   },
   "cell_type": "code",
   "source": "df.head()",
   "id": "36c7b1b6c5d91afc",
   "outputs": [
    {
     "data": {
      "text/plain": [
       "             timestamp  gender  age             course  seniority  \\\n",
       "0  2020-08-07 12:02:00  Female   18        Engineering          1   \n",
       "1  2020-08-07 12:04:00    Male   21  Islamic education          2   \n",
       "2  2020-08-07 12:05:00    Male   19                BIT          1   \n",
       "3  2020-08-07 12:06:00  Female   22               Laws          3   \n",
       "4  2020-08-07 12:13:00    Male   23       Mathemathics          4   \n",
       "\n",
       "           gpa  married  depressed  anxiety  panic_attacks  treatment  \n",
       "0  3.00 - 3.49    False       True    False           True      False  \n",
       "1  3.00 - 3.49    False      False     True          False      False  \n",
       "2  3.00 - 3.49    False       True     True           True      False  \n",
       "3  3.00 - 3.49     True       True    False          False      False  \n",
       "4  3.00 - 3.49    False      False    False          False      False  "
      ],
      "text/html": [
       "<div>\n",
       "<style scoped>\n",
       "    .dataframe tbody tr th:only-of-type {\n",
       "        vertical-align: middle;\n",
       "    }\n",
       "\n",
       "    .dataframe tbody tr th {\n",
       "        vertical-align: top;\n",
       "    }\n",
       "\n",
       "    .dataframe thead th {\n",
       "        text-align: right;\n",
       "    }\n",
       "</style>\n",
       "<table border=\"1\" class=\"dataframe\">\n",
       "  <thead>\n",
       "    <tr style=\"text-align: right;\">\n",
       "      <th></th>\n",
       "      <th>timestamp</th>\n",
       "      <th>gender</th>\n",
       "      <th>age</th>\n",
       "      <th>course</th>\n",
       "      <th>seniority</th>\n",
       "      <th>gpa</th>\n",
       "      <th>married</th>\n",
       "      <th>depressed</th>\n",
       "      <th>anxiety</th>\n",
       "      <th>panic_attacks</th>\n",
       "      <th>treatment</th>\n",
       "    </tr>\n",
       "  </thead>\n",
       "  <tbody>\n",
       "    <tr>\n",
       "      <th>0</th>\n",
       "      <td>2020-08-07 12:02:00</td>\n",
       "      <td>Female</td>\n",
       "      <td>18</td>\n",
       "      <td>Engineering</td>\n",
       "      <td>1</td>\n",
       "      <td>3.00 - 3.49</td>\n",
       "      <td>False</td>\n",
       "      <td>True</td>\n",
       "      <td>False</td>\n",
       "      <td>True</td>\n",
       "      <td>False</td>\n",
       "    </tr>\n",
       "    <tr>\n",
       "      <th>1</th>\n",
       "      <td>2020-08-07 12:04:00</td>\n",
       "      <td>Male</td>\n",
       "      <td>21</td>\n",
       "      <td>Islamic education</td>\n",
       "      <td>2</td>\n",
       "      <td>3.00 - 3.49</td>\n",
       "      <td>False</td>\n",
       "      <td>False</td>\n",
       "      <td>True</td>\n",
       "      <td>False</td>\n",
       "      <td>False</td>\n",
       "    </tr>\n",
       "    <tr>\n",
       "      <th>2</th>\n",
       "      <td>2020-08-07 12:05:00</td>\n",
       "      <td>Male</td>\n",
       "      <td>19</td>\n",
       "      <td>BIT</td>\n",
       "      <td>1</td>\n",
       "      <td>3.00 - 3.49</td>\n",
       "      <td>False</td>\n",
       "      <td>True</td>\n",
       "      <td>True</td>\n",
       "      <td>True</td>\n",
       "      <td>False</td>\n",
       "    </tr>\n",
       "    <tr>\n",
       "      <th>3</th>\n",
       "      <td>2020-08-07 12:06:00</td>\n",
       "      <td>Female</td>\n",
       "      <td>22</td>\n",
       "      <td>Laws</td>\n",
       "      <td>3</td>\n",
       "      <td>3.00 - 3.49</td>\n",
       "      <td>True</td>\n",
       "      <td>True</td>\n",
       "      <td>False</td>\n",
       "      <td>False</td>\n",
       "      <td>False</td>\n",
       "    </tr>\n",
       "    <tr>\n",
       "      <th>4</th>\n",
       "      <td>2020-08-07 12:13:00</td>\n",
       "      <td>Male</td>\n",
       "      <td>23</td>\n",
       "      <td>Mathemathics</td>\n",
       "      <td>4</td>\n",
       "      <td>3.00 - 3.49</td>\n",
       "      <td>False</td>\n",
       "      <td>False</td>\n",
       "      <td>False</td>\n",
       "      <td>False</td>\n",
       "      <td>False</td>\n",
       "    </tr>\n",
       "  </tbody>\n",
       "</table>\n",
       "</div>"
      ]
     },
     "execution_count": 69,
     "metadata": {},
     "output_type": "execute_result"
    }
   ],
   "execution_count": 69
  },
  {
   "metadata": {},
   "cell_type": "markdown",
   "source": "## Get Metadata",
   "id": "20bb689f9e45e405"
  },
  {
   "metadata": {},
   "cell_type": "markdown",
   "source": "### Size",
   "id": "dfd8d366645505b7"
  },
  {
   "metadata": {
    "ExecuteTime": {
     "end_time": "2025-04-14T00:12:30.013089Z",
     "start_time": "2025-04-14T00:12:30.007385Z"
    }
   },
   "cell_type": "code",
   "source": [
    "# Table shape\n",
    "df.shape"
   ],
   "id": "ee471140d80a66e1",
   "outputs": [
    {
     "data": {
      "text/plain": [
       "(100, 11)"
      ]
     },
     "execution_count": 70,
     "metadata": {},
     "output_type": "execute_result"
    }
   ],
   "execution_count": 70
  },
  {
   "metadata": {},
   "cell_type": "markdown",
   "source": "## Understanding the Shape",
   "id": "98b42af2c5004fbf"
  },
  {
   "metadata": {
    "ExecuteTime": {
     "end_time": "2025-04-14T00:12:30.404220Z",
     "start_time": "2025-04-14T00:12:30.398068Z"
    }
   },
   "cell_type": "code",
   "source": [
    "num_students = df.shape[0]\n",
    "num_metrics = df.shape[1]\n",
    "print(f'There are {num_students} students measured on {num_metrics} metrics.')"
   ],
   "id": "a6bfc3e86828eaf7",
   "outputs": [
    {
     "name": "stdout",
     "output_type": "stream",
     "text": [
      "There are 100 students measured on 11 metrics.\n"
     ]
    }
   ],
   "execution_count": 71
  },
  {
   "metadata": {},
   "cell_type": "markdown",
   "source": "### Column Names",
   "id": "ee96df06a53b2851"
  },
  {
   "metadata": {
    "ExecuteTime": {
     "end_time": "2025-04-14T00:12:30.622415Z",
     "start_time": "2025-04-14T00:12:30.613819Z"
    }
   },
   "cell_type": "code",
   "source": [
    "# Column names\n",
    "df.columns"
   ],
   "id": "4eeb40cfbe6ee5f6",
   "outputs": [
    {
     "data": {
      "text/plain": [
       "Index(['timestamp', 'gender', 'age', 'course', 'seniority', 'gpa', 'married',\n",
       "       'depressed', 'anxiety', 'panic_attacks', 'treatment'],\n",
       "      dtype='object')"
      ]
     },
     "execution_count": 72,
     "metadata": {},
     "output_type": "execute_result"
    }
   ],
   "execution_count": 72
  },
  {
   "metadata": {},
   "cell_type": "markdown",
   "source": "### Data Types",
   "id": "76c1a7eed2ec44cd"
  },
  {
   "metadata": {
    "ExecuteTime": {
     "end_time": "2025-04-14T00:12:31.617182Z",
     "start_time": "2025-04-14T00:12:31.608773Z"
    }
   },
   "cell_type": "code",
   "source": "df.dtypes",
   "id": "8c0d67d61c40aad6",
   "outputs": [
    {
     "data": {
      "text/plain": [
       "timestamp        object\n",
       "gender           object\n",
       "age               int64\n",
       "course           object\n",
       "seniority         int64\n",
       "gpa              object\n",
       "married            bool\n",
       "depressed          bool\n",
       "anxiety            bool\n",
       "panic_attacks      bool\n",
       "treatment          bool\n",
       "dtype: object"
      ]
     },
     "execution_count": 73,
     "metadata": {},
     "output_type": "execute_result"
    }
   ],
   "execution_count": 73
  },
  {
   "metadata": {},
   "cell_type": "markdown",
   "source": "## Counting Analysis",
   "id": "bcc8e2913109092e"
  },
  {
   "metadata": {},
   "cell_type": "markdown",
   "source": "### Number of Men, Women Sampled",
   "id": "478fd8d99f7969cd"
  },
  {
   "metadata": {
    "ExecuteTime": {
     "end_time": "2025-04-14T00:12:31.840691Z",
     "start_time": "2025-04-14T00:12:31.831249Z"
    }
   },
   "cell_type": "code",
   "source": [
    "# Number of men sampled\n",
    "num_men_sampled = df[df['gender'] == 'Male'].shape[0]\n",
    "num_women_sampled = df[df['gender'] == 'Female'].shape[0]\n",
    "\n",
    "print(f'There were {num_men_sampled} men sampled')\n",
    "print(f'There were {num_women_sampled} women sampled')"
   ],
   "id": "2e1afee3dac58b92",
   "outputs": [
    {
     "name": "stdout",
     "output_type": "stream",
     "text": [
      "There were 25 men sampled\n",
      "There were 75 women sampled\n"
     ]
    }
   ],
   "execution_count": 74
  },
  {
   "metadata": {},
   "cell_type": "markdown",
   "source": "### Count of Students by Seniority",
   "id": "f55e94268ea7d4cd"
  },
  {
   "metadata": {
    "ExecuteTime": {
     "end_time": "2025-04-14T00:12:32.274652Z",
     "start_time": "2025-04-14T00:12:32.265776Z"
    }
   },
   "cell_type": "code",
   "source": [
    "# Count of students by seniority\n",
    "students_by_seniority = df['seniority'].value_counts()\n",
    "students_by_seniority = students_by_seniority.sort_index()\n",
    "students_by_seniority"
   ],
   "id": "f64c1e521c923b1d",
   "outputs": [
    {
     "data": {
      "text/plain": [
       "seniority\n",
       "1    42\n",
       "2    26\n",
       "3    24\n",
       "4     8\n",
       "Name: count, dtype: int64"
      ]
     },
     "execution_count": 75,
     "metadata": {},
     "output_type": "execute_result"
    }
   ],
   "execution_count": 75
  },
  {
   "metadata": {},
   "cell_type": "markdown",
   "source": "## Get the Age Range",
   "id": "7e1b3eb717cd29b2"
  },
  {
   "metadata": {
    "ExecuteTime": {
     "end_time": "2025-04-14T00:12:32.730184Z",
     "start_time": "2025-04-14T00:12:32.721886Z"
    }
   },
   "cell_type": "code",
   "source": [
    "# Get the age range\n",
    "youngest_student = df['age'].min()\n",
    "oldest_student = df['age'].max()\n",
    "age_range = oldest_student - youngest_student\n",
    "\n",
    "print(f'The youngest student is {youngest_student} years old and the oldest student is {oldest_student} years old.')\n",
    "print(f'The age range is {age_range} years.')"
   ],
   "id": "409525182315c1fc",
   "outputs": [
    {
     "name": "stdout",
     "output_type": "stream",
     "text": [
      "The youngest student is 18 years old and the oldest student is 24 years old.\n",
      "The age range is 6 years.\n"
     ]
    }
   ],
   "execution_count": 76
  },
  {
   "metadata": {},
   "cell_type": "markdown",
   "source": "### Students Experiencing Symptoms",
   "id": "407e0b5d35cba2c9"
  },
  {
   "metadata": {
    "ExecuteTime": {
     "end_time": "2025-04-14T00:12:33.121395Z",
     "start_time": "2025-04-14T00:12:33.111534Z"
    }
   },
   "cell_type": "code",
   "source": [
    "# Count of students who experience depression, anxiety, or panic attacks\n",
    "students_experiencing_symptoms = df[(df['depressed'] == True) | (df['anxiety'] == True) | (df['panic_attacks'] == True)]\n",
    "\n",
    "num_students_experiencing_symptoms = students_experiencing_symptoms.shape[0]\n",
    "print(f'There were {num_students_experiencing_symptoms} students experiencing symptoms out of {num_students} students.')\n"
   ],
   "id": "a15b87fa0fcf8ec0",
   "outputs": [
    {
     "name": "stdout",
     "output_type": "stream",
     "text": [
      "There were 64 students experiencing symptoms out of 100 students.\n"
     ]
    }
   ],
   "execution_count": 77
  },
  {
   "metadata": {},
   "cell_type": "markdown",
   "source": "### Average Age of Students",
   "id": "ac59820c8df6b7d5"
  },
  {
   "metadata": {
    "ExecuteTime": {
     "end_time": "2025-04-14T00:12:33.594520Z",
     "start_time": "2025-04-14T00:12:33.587794Z"
    }
   },
   "cell_type": "code",
   "source": [
    "# Average age of students\n",
    "average_age = df['age'].mean()\n",
    "print(f'The average age of students is {average_age} years old.')"
   ],
   "id": "ccaa4890818636d9",
   "outputs": [
    {
     "name": "stdout",
     "output_type": "stream",
     "text": [
      "The average age of students is 20.53 years old.\n"
     ]
    }
   ],
   "execution_count": 78
  },
  {
   "metadata": {},
   "cell_type": "markdown",
   "source": "### Average Age of Students Experiencing Symptoms",
   "id": "2d5321d2606103c1"
  },
  {
   "metadata": {
    "ExecuteTime": {
     "end_time": "2025-04-14T00:12:33.769285Z",
     "start_time": "2025-04-14T00:12:33.763870Z"
    }
   },
   "cell_type": "code",
   "source": [
    "# Average age of students experiencing symptoms\n",
    "average_age_symptoms = students_experiencing_symptoms['age'].mean()\n",
    "print(f'The average age of students experiencing symptoms is {average_age_symptoms} years old.')"
   ],
   "id": "d8dede6dab211a50",
   "outputs": [
    {
     "name": "stdout",
     "output_type": "stream",
     "text": [
      "The average age of students experiencing symptoms is 20.4375 years old.\n"
     ]
    }
   ],
   "execution_count": 79
  },
  {
   "metadata": {},
   "cell_type": "markdown",
   "source": "## Male vs Female Symptoms",
   "id": "1b408c742fdab99c"
  },
  {
   "metadata": {},
   "cell_type": "markdown",
   "source": "### Depression",
   "id": "eff68593c370fa8e"
  },
  {
   "metadata": {
    "ExecuteTime": {
     "end_time": "2025-04-14T00:12:34.012829Z",
     "start_time": "2025-04-14T00:12:34.004472Z"
    }
   },
   "cell_type": "code",
   "source": [
    "num_females_with_depression = students_experiencing_symptoms[students_experiencing_symptoms['gender'] == 'Female']['depressed'].sum()\n",
    "num_males_with_depression = students_experiencing_symptoms[students_experiencing_symptoms['gender'] == 'Male']['depressed'].sum()\n",
    "\n",
    "female_depression_percent = num_females_with_depression / num_women_sampled * 100\n",
    "male_depression_percent = num_males_with_depression / num_men_sampled * 100\n",
    "\n",
    "print(f'The prevalence of depression in women was {female_depression_percent:.2f}% and the prevalence of depression in men was {male_depression_percent:.2f}%.')"
   ],
   "id": "6f63a2595fb00b8d",
   "outputs": [
    {
     "name": "stdout",
     "output_type": "stream",
     "text": [
      "The prevalence of depression in women was 38.67% and the prevalence of depression in men was 24.00%.\n"
     ]
    }
   ],
   "execution_count": 80
  },
  {
   "metadata": {},
   "cell_type": "markdown",
   "source": "### Anxiety",
   "id": "bad8ac16b7041a35"
  },
  {
   "metadata": {
    "ExecuteTime": {
     "end_time": "2025-04-14T00:12:34.089423Z",
     "start_time": "2025-04-14T00:12:34.081476Z"
    }
   },
   "cell_type": "code",
   "source": [
    "num_females_with_anxiety = students_experiencing_symptoms[students_experiencing_symptoms['gender'] == 'Female']['anxiety'].sum()\n",
    "num_males_with_anxiety = students_experiencing_symptoms[students_experiencing_symptoms['gender'] == 'Male']['anxiety'].sum()\n",
    "\n",
    "female_anxiety_percent = num_females_with_anxiety / num_women_sampled * 100\n",
    "male_anxiety_percent = num_males_with_anxiety / num_men_sampled * 100\n",
    "\n",
    "print(f'The prevalence of anxiety in women was {female_anxiety_percent:.2f}% and the prevalence of anxiety in men was {male_anxiety_percent:.2f}%.')"
   ],
   "id": "1571ad6818508e59",
   "outputs": [
    {
     "name": "stdout",
     "output_type": "stream",
     "text": [
      "The prevalence of anxiety in women was 32.00% and the prevalence of anxiety in men was 40.00%.\n"
     ]
    }
   ],
   "execution_count": 81
  },
  {
   "metadata": {},
   "cell_type": "markdown",
   "source": "## Correlation between Anxiety and Panic Attacks",
   "id": "7abe54c347217baa"
  },
  {
   "metadata": {
    "ExecuteTime": {
     "end_time": "2025-04-14T00:12:34.190695Z",
     "start_time": "2025-04-14T00:12:34.177118Z"
    }
   },
   "cell_type": "code",
   "source": [
    "# Correlation between anxiety and panic attacks\n",
    "correlation = df['anxiety'].corr(df['panic_attacks'])\n",
    "\n",
    "num_with_anxiety_and_panic_attacks = df[(df['anxiety'] == True) & (df['panic_attacks'] == True)].shape[0]\n",
    "num_with_either_anxiety_or_panic_attacks = df[(df['anxiety'] == True) | (df['panic_attacks'] == True)].shape[0]\n",
    "\n",
    "percent_with_both = num_with_anxiety_and_panic_attacks / num_with_either_anxiety_or_panic_attacks * 100\n",
    "print(f'The percentage of students with both anxiety and panic attacks is {percent_with_both:.2f}%.')\n",
    "\n",
    "print(f'The correlation between anxiety and panic attacks is {correlation:.2f}.')"
   ],
   "id": "580ce610d361c29d",
   "outputs": [
    {
     "name": "stdout",
     "output_type": "stream",
     "text": [
      "The percentage of students with both anxiety and panic attacks is 24.07%.\n",
      "The correlation between anxiety and panic attacks is 0.08.\n"
     ]
    }
   ],
   "execution_count": 82
  }
 ],
 "metadata": {
  "kernelspec": {
   "display_name": "Python 3",
   "language": "python",
   "name": "python3"
  },
  "language_info": {
   "codemirror_mode": {
    "name": "ipython",
    "version": 2
   },
   "file_extension": ".py",
   "mimetype": "text/x-python",
   "name": "python",
   "nbconvert_exporter": "python",
   "pygments_lexer": "ipython2",
   "version": "2.7.6"
  }
 },
 "nbformat": 4,
 "nbformat_minor": 5
}
