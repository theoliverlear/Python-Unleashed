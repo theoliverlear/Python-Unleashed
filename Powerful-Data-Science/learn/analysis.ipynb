{
 "cells": [
  {
   "metadata": {},
   "cell_type": "markdown",
   "source": "# Analyzing Data with Pandas",
   "id": "27de55817f20bfa3"
  },
  {
   "metadata": {},
   "cell_type": "markdown",
   "source": "### Import Libraries",
   "id": "b1375fd63b0a5094"
  },
  {
   "metadata": {
    "collapsed": true,
    "ExecuteTime": {
     "end_time": "2025-04-12T22:53:56.253278Z",
     "start_time": "2025-04-12T22:53:56.248646Z"
    }
   },
   "cell_type": "code",
   "source": [
    "import numpy as np\n",
    "import pandas as pd\n",
    "import matplotlib.pyplot as plt"
   ],
   "id": "initial_id",
   "outputs": [],
   "execution_count": 40
  },
  {
   "metadata": {},
   "cell_type": "markdown",
   "source": [
    "## Load Dataset\n",
    "#### Student Mental Health"
   ],
   "id": "aac71fcedbc5f96a"
  },
  {
   "metadata": {
    "ExecuteTime": {
     "end_time": "2025-04-12T22:53:56.471069Z",
     "start_time": "2025-04-12T22:53:56.464760Z"
    }
   },
   "cell_type": "code",
   "source": "df = pd.read_csv(\"../datasets/updated/student_mental_health.csv\")",
   "id": "297fb8626d64652a",
   "outputs": [],
   "execution_count": 41
  },
  {
   "metadata": {},
   "cell_type": "markdown",
   "source": "## Overview of the Dataset",
   "id": "bccb5e149fc0973"
  },
  {
   "metadata": {
    "ExecuteTime": {
     "end_time": "2025-04-12T22:53:56.709149Z",
     "start_time": "2025-04-12T22:53:56.699140Z"
    }
   },
   "cell_type": "code",
   "source": "df.head()",
   "id": "36c7b1b6c5d91afc",
   "outputs": [
    {
     "data": {
      "text/plain": [
       "             timestamp  gender  age             course  seniority  \\\n",
       "0  2020-08-07 12:02:00  Female   18        Engineering          1   \n",
       "1  2020-08-07 12:04:00    Male   21  Islamic education          2   \n",
       "2  2020-08-07 12:05:00    Male   19                BIT          1   \n",
       "3  2020-08-07 12:06:00  Female   22               Laws          3   \n",
       "4  2020-08-07 12:13:00    Male   23       Mathemathics          4   \n",
       "\n",
       "           gpa  married  depressed  anxiety  panic_attacks  treatment  \n",
       "0  3.00 - 3.49    False       True    False           True      False  \n",
       "1  3.00 - 3.49    False      False     True          False      False  \n",
       "2  3.00 - 3.49    False       True     True           True      False  \n",
       "3  3.00 - 3.49     True       True    False          False      False  \n",
       "4  3.00 - 3.49    False      False    False          False      False  "
      ],
      "text/html": [
       "<div>\n",
       "<style scoped>\n",
       "    .dataframe tbody tr th:only-of-type {\n",
       "        vertical-align: middle;\n",
       "    }\n",
       "\n",
       "    .dataframe tbody tr th {\n",
       "        vertical-align: top;\n",
       "    }\n",
       "\n",
       "    .dataframe thead th {\n",
       "        text-align: right;\n",
       "    }\n",
       "</style>\n",
       "<table border=\"1\" class=\"dataframe\">\n",
       "  <thead>\n",
       "    <tr style=\"text-align: right;\">\n",
       "      <th></th>\n",
       "      <th>timestamp</th>\n",
       "      <th>gender</th>\n",
       "      <th>age</th>\n",
       "      <th>course</th>\n",
       "      <th>seniority</th>\n",
       "      <th>gpa</th>\n",
       "      <th>married</th>\n",
       "      <th>depressed</th>\n",
       "      <th>anxiety</th>\n",
       "      <th>panic_attacks</th>\n",
       "      <th>treatment</th>\n",
       "    </tr>\n",
       "  </thead>\n",
       "  <tbody>\n",
       "    <tr>\n",
       "      <th>0</th>\n",
       "      <td>2020-08-07 12:02:00</td>\n",
       "      <td>Female</td>\n",
       "      <td>18</td>\n",
       "      <td>Engineering</td>\n",
       "      <td>1</td>\n",
       "      <td>3.00 - 3.49</td>\n",
       "      <td>False</td>\n",
       "      <td>True</td>\n",
       "      <td>False</td>\n",
       "      <td>True</td>\n",
       "      <td>False</td>\n",
       "    </tr>\n",
       "    <tr>\n",
       "      <th>1</th>\n",
       "      <td>2020-08-07 12:04:00</td>\n",
       "      <td>Male</td>\n",
       "      <td>21</td>\n",
       "      <td>Islamic education</td>\n",
       "      <td>2</td>\n",
       "      <td>3.00 - 3.49</td>\n",
       "      <td>False</td>\n",
       "      <td>False</td>\n",
       "      <td>True</td>\n",
       "      <td>False</td>\n",
       "      <td>False</td>\n",
       "    </tr>\n",
       "    <tr>\n",
       "      <th>2</th>\n",
       "      <td>2020-08-07 12:05:00</td>\n",
       "      <td>Male</td>\n",
       "      <td>19</td>\n",
       "      <td>BIT</td>\n",
       "      <td>1</td>\n",
       "      <td>3.00 - 3.49</td>\n",
       "      <td>False</td>\n",
       "      <td>True</td>\n",
       "      <td>True</td>\n",
       "      <td>True</td>\n",
       "      <td>False</td>\n",
       "    </tr>\n",
       "    <tr>\n",
       "      <th>3</th>\n",
       "      <td>2020-08-07 12:06:00</td>\n",
       "      <td>Female</td>\n",
       "      <td>22</td>\n",
       "      <td>Laws</td>\n",
       "      <td>3</td>\n",
       "      <td>3.00 - 3.49</td>\n",
       "      <td>True</td>\n",
       "      <td>True</td>\n",
       "      <td>False</td>\n",
       "      <td>False</td>\n",
       "      <td>False</td>\n",
       "    </tr>\n",
       "    <tr>\n",
       "      <th>4</th>\n",
       "      <td>2020-08-07 12:13:00</td>\n",
       "      <td>Male</td>\n",
       "      <td>23</td>\n",
       "      <td>Mathemathics</td>\n",
       "      <td>4</td>\n",
       "      <td>3.00 - 3.49</td>\n",
       "      <td>False</td>\n",
       "      <td>False</td>\n",
       "      <td>False</td>\n",
       "      <td>False</td>\n",
       "      <td>False</td>\n",
       "    </tr>\n",
       "  </tbody>\n",
       "</table>\n",
       "</div>"
      ]
     },
     "execution_count": 42,
     "metadata": {},
     "output_type": "execute_result"
    }
   ],
   "execution_count": 42
  },
  {
   "metadata": {},
   "cell_type": "markdown",
   "source": "## Get Metadata",
   "id": "20bb689f9e45e405"
  },
  {
   "metadata": {},
   "cell_type": "markdown",
   "source": "### Size",
   "id": "dfd8d366645505b7"
  },
  {
   "metadata": {
    "ExecuteTime": {
     "end_time": "2025-04-12T22:53:56.804842Z",
     "start_time": "2025-04-12T22:53:56.799673Z"
    }
   },
   "cell_type": "code",
   "source": [
    "# Table shape\n",
    "df.shape"
   ],
   "id": "ee471140d80a66e1",
   "outputs": [
    {
     "data": {
      "text/plain": [
       "(100, 11)"
      ]
     },
     "execution_count": 43,
     "metadata": {},
     "output_type": "execute_result"
    }
   ],
   "execution_count": 43
  },
  {
   "metadata": {},
   "cell_type": "markdown",
   "source": "## Understanding the Shape",
   "id": "98b42af2c5004fbf"
  },
  {
   "metadata": {
    "ExecuteTime": {
     "end_time": "2025-04-12T22:53:57.056107Z",
     "start_time": "2025-04-12T22:53:57.050868Z"
    }
   },
   "cell_type": "code",
   "source": [
    "num_students = df.shape[0]\n",
    "num_metrics = df.shape[1]\n",
    "print(f'There are {num_students} students measured on {num_metrics} metrics.')"
   ],
   "id": "a6bfc3e86828eaf7",
   "outputs": [
    {
     "name": "stdout",
     "output_type": "stream",
     "text": [
      "There are 100 students measured on 11 metrics.\n"
     ]
    }
   ],
   "execution_count": 44
  },
  {
   "metadata": {},
   "cell_type": "markdown",
   "source": "### Column Names",
   "id": "ee96df06a53b2851"
  },
  {
   "metadata": {
    "ExecuteTime": {
     "end_time": "2025-04-12T22:53:57.628317Z",
     "start_time": "2025-04-12T22:53:57.623121Z"
    }
   },
   "cell_type": "code",
   "source": [
    "# Column names\n",
    "df.columns"
   ],
   "id": "4eeb40cfbe6ee5f6",
   "outputs": [
    {
     "data": {
      "text/plain": [
       "Index(['timestamp', 'gender', 'age', 'course', 'seniority', 'gpa', 'married',\n",
       "       'depressed', 'anxiety', 'panic_attacks', 'treatment'],\n",
       "      dtype='object')"
      ]
     },
     "execution_count": 45,
     "metadata": {},
     "output_type": "execute_result"
    }
   ],
   "execution_count": 45
  },
  {
   "metadata": {},
   "cell_type": "markdown",
   "source": "### Data Types",
   "id": "76c1a7eed2ec44cd"
  },
  {
   "metadata": {
    "ExecuteTime": {
     "end_time": "2025-04-12T22:53:57.886803Z",
     "start_time": "2025-04-12T22:53:57.880569Z"
    }
   },
   "cell_type": "code",
   "source": "df.dtypes",
   "id": "8c0d67d61c40aad6",
   "outputs": [
    {
     "data": {
      "text/plain": [
       "timestamp        object\n",
       "gender           object\n",
       "age               int64\n",
       "course           object\n",
       "seniority         int64\n",
       "gpa              object\n",
       "married            bool\n",
       "depressed          bool\n",
       "anxiety            bool\n",
       "panic_attacks      bool\n",
       "treatment          bool\n",
       "dtype: object"
      ]
     },
     "execution_count": 46,
     "metadata": {},
     "output_type": "execute_result"
    }
   ],
   "execution_count": 46
  },
  {
   "metadata": {},
   "cell_type": "markdown",
   "source": "## Counting Analysis",
   "id": "bcc8e2913109092e"
  },
  {
   "metadata": {},
   "cell_type": "markdown",
   "source": "### Number of Men, Women Sampled",
   "id": "478fd8d99f7969cd"
  },
  {
   "metadata": {
    "ExecuteTime": {
     "end_time": "2025-04-12T22:53:58.107098Z",
     "start_time": "2025-04-12T22:53:58.101275Z"
    }
   },
   "cell_type": "code",
   "source": [
    "# Number of men sampled\n",
    "num_men_sampled = df[df['gender'] == 'Male'].shape[0]\n",
    "num_women_sampled = df[df['gender'] == 'Female'].shape[0]\n",
    "\n",
    "print(f'There were {num_men_sampled} men sampled')\n",
    "print(f'There were {num_women_sampled} women sampled')"
   ],
   "id": "2e1afee3dac58b92",
   "outputs": [
    {
     "name": "stdout",
     "output_type": "stream",
     "text": [
      "There were 25 men sampled\n",
      "There were 75 women sampled\n"
     ]
    }
   ],
   "execution_count": 47
  },
  {
   "metadata": {},
   "cell_type": "markdown",
   "source": "### Count of Students by Seniority",
   "id": "f55e94268ea7d4cd"
  },
  {
   "metadata": {
    "ExecuteTime": {
     "end_time": "2025-04-12T22:53:58.624863Z",
     "start_time": "2025-04-12T22:53:58.618367Z"
    }
   },
   "cell_type": "code",
   "source": [
    "# Count of students by seniority\n",
    "students_by_seniority = df['seniority'].value_counts()\n",
    "students_by_seniority = students_by_seniority.sort_index()\n",
    "students_by_seniority"
   ],
   "id": "f64c1e521c923b1d",
   "outputs": [
    {
     "data": {
      "text/plain": [
       "seniority\n",
       "1    42\n",
       "2    26\n",
       "3    24\n",
       "4     8\n",
       "Name: count, dtype: int64"
      ]
     },
     "execution_count": 48,
     "metadata": {},
     "output_type": "execute_result"
    }
   ],
   "execution_count": 48
  },
  {
   "metadata": {},
   "cell_type": "markdown",
   "source": "### Students Experiencing Symptoms",
   "id": "407e0b5d35cba2c9"
  },
  {
   "metadata": {
    "ExecuteTime": {
     "end_time": "2025-04-12T23:40:03.522600Z",
     "start_time": "2025-04-12T23:40:03.516576Z"
    }
   },
   "cell_type": "code",
   "source": [
    "# Count of students who experience depression, anxiety, or panic attacks\n",
    "students_experiencing_symptoms = df[(df['depressed'] == True) | (df['anxiety'] == True) | (df['panic_attacks'] == True)]\n",
    "\n",
    "num_students_experiencing_symptoms = students_experiencing_symptoms.shape[0]\n",
    "print(f'There were {num_students_experiencing_symptoms} students experiencing symptoms out of {num_students} students.')\n"
   ],
   "id": "a15b87fa0fcf8ec0",
   "outputs": [
    {
     "name": "stdout",
     "output_type": "stream",
     "text": [
      "There were 64 students experiencing symptoms out of 100 students.\n"
     ]
    }
   ],
   "execution_count": 54
  },
  {
   "metadata": {},
   "cell_type": "markdown",
   "source": "### Average Age of Students",
   "id": "ac59820c8df6b7d5"
  },
  {
   "metadata": {
    "ExecuteTime": {
     "end_time": "2025-04-12T23:37:05.932892Z",
     "start_time": "2025-04-12T23:37:05.927413Z"
    }
   },
   "cell_type": "code",
   "source": [
    "# Average age of students\n",
    "average_age = df['age'].mean()\n",
    "print(f'The average age of students is {average_age} years old.')"
   ],
   "id": "ccaa4890818636d9",
   "outputs": [
    {
     "name": "stdout",
     "output_type": "stream",
     "text": [
      "The average age of students is 20.53 years old\n"
     ]
    }
   ],
   "execution_count": 50
  },
  {
   "metadata": {},
   "cell_type": "markdown",
   "source": "### Average Age of Students Experiencing Symptoms",
   "id": "2d5321d2606103c1"
  },
  {
   "metadata": {
    "ExecuteTime": {
     "end_time": "2025-04-12T23:40:36.500971Z",
     "start_time": "2025-04-12T23:40:36.495582Z"
    }
   },
   "cell_type": "code",
   "source": [
    "# Average age of students experiencing symptoms\n",
    "average_age_symptoms = students_experiencing_symptoms['age'].mean()\n",
    "print(f'The average age of students experiencing symptoms is {average_age_symptoms} years old.')"
   ],
   "id": "d8dede6dab211a50",
   "outputs": [
    {
     "name": "stdout",
     "output_type": "stream",
     "text": [
      "The average age of students experiencing symptoms is 20.4375 years old.\n"
     ]
    }
   ],
   "execution_count": 56
  },
  {
   "metadata": {},
   "cell_type": "markdown",
   "source": "## Male vs Female Symptoms",
   "id": "1b408c742fdab99c"
  },
  {
   "metadata": {},
   "cell_type": "markdown",
   "source": "### Depression",
   "id": "eff68593c370fa8e"
  },
  {
   "metadata": {
    "ExecuteTime": {
     "end_time": "2025-04-12T23:49:39.758913Z",
     "start_time": "2025-04-12T23:49:39.752042Z"
    }
   },
   "cell_type": "code",
   "source": [
    "num_females_with_depression = students_experiencing_symptoms[students_experiencing_symptoms['gender'] == 'Female']['depressed'].sum()\n",
    "num_males_with_depression = students_experiencing_symptoms[students_experiencing_symptoms['gender'] == 'Male']['depressed'].sum()\n",
    "\n",
    "female_depression_percent = num_females_with_depression / num_women_sampled * 100\n",
    "male_depression_percent = num_males_with_depression / num_men_sampled * 100\n",
    "\n",
    "print(f'The prevalence of depression in women was {female_depression_percent:.2f}% and the prevalence of depression in men was {male_depression_percent:.2f}%.')"
   ],
   "id": "6f63a2595fb00b8d",
   "outputs": [
    {
     "name": "stdout",
     "output_type": "stream",
     "text": [
      "The prevalence of depression in women was 38.67% and the prevalence of depression in men was 24.00%.\n"
     ]
    }
   ],
   "execution_count": 63
  },
  {
   "metadata": {},
   "cell_type": "markdown",
   "source": "### Anxiety",
   "id": "bad8ac16b7041a35"
  },
  {
   "metadata": {
    "ExecuteTime": {
     "end_time": "2025-04-12T23:51:03.762650Z",
     "start_time": "2025-04-12T23:51:03.755761Z"
    }
   },
   "cell_type": "code",
   "source": [
    "num_females_with_anxiety = students_experiencing_symptoms[students_experiencing_symptoms['gender'] == 'Female']['anxiety'].sum()\n",
    "num_males_with_anxiety = students_experiencing_symptoms[students_experiencing_symptoms['gender'] == 'Male']['anxiety'].sum()\n",
    "\n",
    "female_anxiety_percent = num_females_with_anxiety / num_women_sampled * 100\n",
    "male_anxiety_percent = num_males_with_anxiety / num_men_sampled * 100\n",
    "\n",
    "print(f'The prevalence of anxiety in women was {female_anxiety_percent:.2f}% and the prevalence of anxiety in men was {male_anxiety_percent:.2f}%.')"
   ],
   "id": "1571ad6818508e59",
   "outputs": [
    {
     "name": "stdout",
     "output_type": "stream",
     "text": [
      "The prevalence of anxiety in women was 32.00% and the prevalence of anxiety in men was 40.00%.\n"
     ]
    }
   ],
   "execution_count": 64
  },
  {
   "metadata": {},
   "cell_type": "markdown",
   "source": "## Correlation between Anxiety and Panic Attacks",
   "id": "7abe54c347217baa"
  },
  {
   "metadata": {
    "ExecuteTime": {
     "end_time": "2025-04-12T23:53:03.693679Z",
     "start_time": "2025-04-12T23:53:03.686574Z"
    }
   },
   "cell_type": "code",
   "source": [
    "# Correlation between anxiety and panic attacks\n",
    "correlation = df['anxiety'].corr(df['panic_attacks'])\n",
    "\n",
    "num_with_anxiety_and_panic_attacks = df[(df['anxiety'] == True) & (df['panic_attacks'] == True)].shape[0]\n",
    "num_with_either_anxiety_or_panic_attacks = df[(df['anxiety'] == True) | (df['panic_attacks'] == True)].shape[0]\n",
    "\n",
    "percent_with_both = num_with_anxiety_and_panic_attacks / num_with_either_anxiety_or_panic_attacks * 100\n",
    "print(f'The percentage of students with both anxiety and panic attacks is {percent_with_both:.2f}%.')\n",
    "\n",
    "print(f'The correlation between anxiety and panic attacks is {correlation:.2f}.')"
   ],
   "id": "580ce610d361c29d",
   "outputs": [
    {
     "name": "stdout",
     "output_type": "stream",
     "text": [
      "The percentage of students with both anxiety and panic attacks is 24.07%.\n",
      "The correlation between anxiety and panic attacks is 0.08.\n"
     ]
    }
   ],
   "execution_count": 66
  }
 ],
 "metadata": {
  "kernelspec": {
   "display_name": "Python 3",
   "language": "python",
   "name": "python3"
  },
  "language_info": {
   "codemirror_mode": {
    "name": "ipython",
    "version": 2
   },
   "file_extension": ".py",
   "mimetype": "text/x-python",
   "name": "python",
   "nbconvert_exporter": "python",
   "pygments_lexer": "ipython2",
   "version": "2.7.6"
  }
 },
 "nbformat": 4,
 "nbformat_minor": 5
}
