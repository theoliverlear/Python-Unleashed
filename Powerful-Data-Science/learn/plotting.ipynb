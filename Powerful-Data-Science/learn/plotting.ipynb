{
 "cells": [
  {
   "metadata": {},
   "cell_type": "markdown",
   "source": "# Plotting Data with Matplotlib",
   "id": "847a62083cf2fd25"
  },
  {
   "metadata": {},
   "cell_type": "markdown",
   "source": "### Import Libraries",
   "id": "b9021dbf816c911c"
  },
  {
   "metadata": {
    "collapsed": true
   },
   "cell_type": "code",
   "source": [
    "import matplotlib.pyplot as plt\n",
    "import pandas as pd"
   ],
   "id": "initial_id",
   "outputs": [],
   "execution_count": null
  },
  {
   "metadata": {},
   "cell_type": "markdown",
   "source": [
    "## Load Dataset\n",
    "#### Dow Jones Industrial Average"
   ],
   "id": "2eb9bc1f251927c9"
  },
  {
   "metadata": {},
   "cell_type": "code",
   "source": "df = pd.read_csv(\"../datasets/dow_jones.csv\")",
   "id": "29eb215497e92899",
   "outputs": [],
   "execution_count": null
  },
  {
   "metadata": {},
   "cell_type": "markdown",
   "source": "## Overview of the Dataset",
   "id": "58654f90d7039246"
  },
  {
   "metadata": {},
   "cell_type": "code",
   "source": "df.head()",
   "id": "53e30eda0b22a052",
   "outputs": [],
   "execution_count": null
  },
  {
   "metadata": {},
   "cell_type": "markdown",
   "source": "## Clean the Data",
   "id": "84fa94140b8dac0d"
  },
  {
   "metadata": {},
   "cell_type": "code",
   "source": [
    "df['Date'] = pd.to_datetime(df['Date'])\n",
    "df = df.sort_values(by='Date')"
   ],
   "id": "43f96b02c6465bf6",
   "outputs": [],
   "execution_count": null
  },
  {
   "metadata": {},
   "cell_type": "markdown",
   "source": "## Linechart of Price Over Time",
   "id": "8564718847e6ef94"
  },
  {
   "metadata": {},
   "cell_type": "code",
   "source": [
    "graph_dimension_inches = (10, 6)\n",
    "plt.figure(figsize=graph_dimension_inches)\n",
    "plt.plot(df['Date'], df['Open'], color='skyblue')\n",
    "plt.xlabel('Date')\n",
    "plt.ylabel('Opening Price')\n",
    "plt.title('Stock Opening Prices Over Time')\n",
    "plt.grid(True)\n",
    "plt.tight_layout()\n",
    "plt.show()"
   ],
   "id": "4dbaaa43d844e331",
   "outputs": [],
   "execution_count": null
  },
  {
   "metadata": {},
   "cell_type": "markdown",
   "source": "## Bar Chart of Volume Over Time",
   "id": "8c33525cc01ada8d"
  },
  {
   "metadata": {},
   "cell_type": "code",
   "source": [
    "# Bar chart of volume over time\n",
    "plt.figure(figsize=graph_dimension_inches)\n",
    "plt.bar(df['Date'], df['Vol.'], color='orange')\n",
    "plt.xlabel('Date')\n",
    "plt.ylabel('Volume')\n",
    "plt.title('Trading Volume Over Time')\n",
    "plt.tight_layout()\n",
    "plt.show()"
   ],
   "id": "c0deeed4a079af47",
   "outputs": [],
   "execution_count": null
  },
  {
   "metadata": {},
   "cell_type": "markdown",
   "source": "## Bar Chart of Yearly Volume Over Time",
   "id": "ff0e53daf3ca0bb8"
  },
  {
   "metadata": {},
   "cell_type": "code",
   "source": [
    "# Bar chart of yearly volume over time\n",
    "df['Year'] = df['Date'].dt.year\n",
    "yearly_volume = df.groupby('Year')['Vol.'].sum()\n",
    "plt.figure(figsize=graph_dimension_inches)\n",
    "plt.bar(yearly_volume.index, yearly_volume.values, color='orange', width=0.8)\n",
    "plt.xlabel('Year')\n",
    "plt.ylabel('Volume')\n",
    "plt.title('Yearly Trading Volume')\n",
    "plt.xticks(rotation=45)\n",
    "plt.tight_layout()\n",
    "plt.show()"
   ],
   "id": "25ac2d7a46f542a",
   "outputs": [],
   "execution_count": null
  },
  {
   "metadata": {},
   "cell_type": "markdown",
   "source": "## Advanced Bar Chart of Volume Over Time",
   "id": "b41c5083cd92d53f"
  },
  {
   "metadata": {},
   "cell_type": "code",
   "source": [
    "df['Year'] = df['Date'].dt.year\n",
    "yearly_means = df.groupby('Year')['Vol.'].transform('mean')\n",
    "plt.figure(figsize=graph_dimension_inches)\n",
    "plt.bar(df['Date'], yearly_means, color='blue', alpha=0.9, label=\"Yearly Mean Volume\")\n",
    "plt.bar(df['Date'], df['Vol.'], color='orange', label=\"Daily Volume\")\n",
    "plt.xlabel('Date')\n",
    "plt.ylabel('Volume')\n",
    "plt.title('Trading Volume Over Time with Yearly Mean Volume')\n",
    "plt.xticks(rotation=45)\n",
    "plt.legend()\n",
    "plt.tight_layout()\n",
    "plt.show()"
   ],
   "id": "37f5daf1f6c3946a",
   "outputs": [],
   "execution_count": null
  },
  {
   "metadata": {},
   "cell_type": "markdown",
   "source": "## Scatterplot of Price vs. Trading Volume",
   "id": "4eac85b6f08d9039"
  },
  {
   "metadata": {},
   "cell_type": "code",
   "source": [
    "plt.scatter(df['Price'], df['Vol.'])\n",
    "plt.title(\"Price vs. Trading Volume\")\n",
    "plt.xlabel(\"Price\")\n",
    "plt.ylabel(\"Volume\")\n",
    "plt.show()"
   ],
   "id": "659cb7ef6674e14a",
   "outputs": [],
   "execution_count": null
  },
  {
   "metadata": {},
   "cell_type": "markdown",
   "source": "## Load the Dataset",
   "id": "47a7fed010407088"
  },
  {
   "metadata": {},
   "cell_type": "markdown",
   "source": "### Student Mental Health",
   "id": "a32236a48731d73a"
  },
  {
   "metadata": {},
   "cell_type": "code",
   "source": "df = pd.read_csv(\"../datasets/updated/student_mental_health.csv\")",
   "id": "f9c18c1d3ee0e04d",
   "outputs": [],
   "execution_count": null
  },
  {
   "metadata": {},
   "cell_type": "markdown",
   "source": "## Overview of the Dataset",
   "id": "31c3d033dbfe1321"
  },
  {
   "metadata": {},
   "cell_type": "code",
   "source": "df.head()",
   "id": "e2882e8a6594e685",
   "outputs": [],
   "execution_count": null
  },
  {
   "metadata": {},
   "cell_type": "markdown",
   "source": "## Males vs Females Reported Pie Chart",
   "id": "2d4b09f2f80eb38d"
  },
  {
   "metadata": {},
   "cell_type": "code",
   "source": [
    "# Males vs females reported pie chart\n",
    "students_experiencing_symptoms = df[(df['depressed'] == True) | (df['anxiety'] == True) | (df['panic_attacks'] == True)]\n",
    "num_students_experiencing_symptoms = students_experiencing_symptoms.shape[0]\n",
    "pie_data = [df.shape[0], num_students_experiencing_symptoms]\n",
    "labels = ['No Symptoms', 'Symptoms']\n",
    "plt.pie(pie_data, labels=labels, autopct='%.1f%%', startangle=90)"
   ],
   "id": "f7789ad2e4573c73",
   "outputs": [],
   "execution_count": null
  },
  {
   "metadata": {},
   "cell_type": "markdown",
   "source": "## Breakdown of Symptoms Pie Chart",
   "id": "98faadeedbb3faf0"
  },
  {
   "metadata": {},
   "cell_type": "code",
   "source": [
    "# Breakdown of symptoms pie chart\n",
    "depression_count = df[df['depressed'] == True].shape[0]\n",
    "anxiety_count = df[df['anxiety'] == True].shape[0]\n",
    "panic_attacks_count = df[df['panic_attacks'] == True].shape[0]\n",
    "pie_data = [depression_count, anxiety_count, panic_attacks_count]\n",
    "labels = ['Depression', 'Anxiety', 'Panic Attacks']\n",
    "plt.pie(pie_data, labels=labels, autopct='%.1f%%', startangle=90)\n",
    "plt.title('Breakdown of Symptoms')\n",
    "plt.axis('equal')\n",
    "plt.show()"
   ],
   "id": "feabd57baea751f5",
   "outputs": [],
   "execution_count": null
  }
 ],
 "metadata": {
  "kernelspec": {
   "display_name": "Python 3",
   "language": "python",
   "name": "python3"
  },
  "language_info": {
   "codemirror_mode": {
    "name": "ipython",
    "version": 2
   },
   "file_extension": ".py",
   "mimetype": "text/x-python",
   "name": "python",
   "nbconvert_exporter": "python",
   "pygments_lexer": "ipython2",
   "version": "2.7.6"
  }
 },
 "nbformat": 4,
 "nbformat_minor": 5
}
