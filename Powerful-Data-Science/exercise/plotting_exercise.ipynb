{
 "cells": [
  {
   "metadata": {},
   "cell_type": "markdown",
   "source": [
    "# Exercise 3: Visualize Data Science Jobs\n",
    "Using Matplotlib, show the important insights found within our dataset."
   ],
   "id": "5e6671439725d9de"
  },
  {
   "metadata": {},
   "cell_type": "markdown",
   "source": "## Import Libraries",
   "id": "22e3cb04382f2610"
  },
  {
   "cell_type": "code",
   "id": "initial_id",
   "metadata": {
    "collapsed": true
   },
   "source": "# Your code here.",
   "outputs": [],
   "execution_count": null
  },
  {
   "metadata": {},
   "cell_type": "markdown",
   "source": "## Load the Dataset",
   "id": "ce793894a7e524ca"
  },
  {
   "metadata": {},
   "cell_type": "markdown",
   "source": "### Data Science Jobs",
   "id": "ae7759dbc93c9f18"
  },
  {
   "metadata": {},
   "cell_type": "code",
   "source": [
    "# Your code here.\n",
    "# File location: \"../datasets/exercise/ds_salaries.csv\""
   ],
   "id": "238aa549c79f3504",
   "outputs": [],
   "execution_count": null
  },
  {
   "metadata": {},
   "cell_type": "markdown",
   "source": "## Pie Chart of the Breakdown of Full-Time/Part-Time Status",
   "id": "ce08c4770504a5b7"
  },
  {
   "metadata": {},
   "cell_type": "code",
   "source": "# Your code here.",
   "id": "5a7339fc72f9332",
   "outputs": [],
   "execution_count": null
  },
  {
   "metadata": {},
   "cell_type": "markdown",
   "source": "## Pie Chart of the Breakdown of Job Titles",
   "id": "e3339f1e1d18a383"
  },
  {
   "metadata": {},
   "cell_type": "code",
   "outputs": [],
   "execution_count": null,
   "source": "# Your code here.",
   "id": "aee07b98e61d9746"
  },
  {
   "metadata": {},
   "cell_type": "markdown",
   "source": "## Line Chart of the Average Salary by Year",
   "id": "e871435cb57f850a"
  },
  {
   "metadata": {},
   "cell_type": "code",
   "source": "# Your code here.",
   "id": "dedcbffcf347d121",
   "outputs": [],
   "execution_count": null
  },
  {
   "metadata": {},
   "cell_type": "markdown",
   "source": "## Bar Chart of Average Salary by Remote Work Ratio",
   "id": "4f7d3c35a812bf9a"
  },
  {
   "metadata": {},
   "cell_type": "code",
   "source": "# Your code here.",
   "id": "f594e76568f4b00e",
   "outputs": [],
   "execution_count": null
  }
 ],
 "metadata": {
  "kernelspec": {
   "display_name": "Python 3",
   "language": "python",
   "name": "python3"
  },
  "language_info": {
   "codemirror_mode": {
    "name": "ipython",
    "version": 2
   },
   "file_extension": ".py",
   "mimetype": "text/x-python",
   "name": "python",
   "nbconvert_exporter": "python",
   "pygments_lexer": "ipython2",
   "version": "2.7.6"
  }
 },
 "nbformat": 4,
 "nbformat_minor": 5
}
