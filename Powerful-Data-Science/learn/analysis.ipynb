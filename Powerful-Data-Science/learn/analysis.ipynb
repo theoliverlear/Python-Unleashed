{
 "cells": [
  {
   "metadata": {},
   "cell_type": "markdown",
   "source": "# Analyzing Data with Pandas",
   "id": "27de55817f20bfa3"
  },
  {
   "metadata": {},
   "cell_type": "markdown",
   "source": "### Import Libraries",
   "id": "b1375fd63b0a5094"
  },
  {
   "metadata": {
    "collapsed": true
   },
   "cell_type": "code",
   "source": "import pandas as pd",
   "id": "initial_id",
   "outputs": [],
   "execution_count": null
  },
  {
   "metadata": {},
   "cell_type": "markdown",
   "source": [
    "## Load Dataset\n",
    "#### Student Mental Health"
   ],
   "id": "aac71fcedbc5f96a"
  },
  {
   "metadata": {},
   "cell_type": "code",
   "source": "df = pd.read_csv(\"../datasets/updated/student_mental_health.csv\")",
   "id": "297fb8626d64652a",
   "outputs": [],
   "execution_count": null
  },
  {
   "metadata": {},
   "cell_type": "markdown",
   "source": "## Overview of the Dataset",
   "id": "bccb5e149fc0973"
  },
  {
   "metadata": {},
   "cell_type": "code",
   "source": "df.head()",
   "id": "36c7b1b6c5d91afc",
   "outputs": [],
   "execution_count": null
  },
  {
   "metadata": {},
   "cell_type": "markdown",
   "source": "## Get Metadata",
   "id": "20bb689f9e45e405"
  },
  {
   "metadata": {},
   "cell_type": "markdown",
   "source": "### Size",
   "id": "dfd8d366645505b7"
  },
  {
   "metadata": {},
   "cell_type": "code",
   "source": [
    "# Table shape\n",
    "df.shape"
   ],
   "id": "ee471140d80a66e1",
   "outputs": [],
   "execution_count": null
  },
  {
   "metadata": {},
   "cell_type": "markdown",
   "source": "## Understanding the Shape",
   "id": "98b42af2c5004fbf"
  },
  {
   "metadata": {},
   "cell_type": "code",
   "source": [
    "num_students = df.shape[0]\n",
    "num_metrics = df.shape[1]\n",
    "print(f'There are {num_students} students measured on {num_metrics} metrics.')"
   ],
   "id": "a6bfc3e86828eaf7",
   "outputs": [],
   "execution_count": null
  },
  {
   "metadata": {},
   "cell_type": "markdown",
   "source": "### Column Names",
   "id": "ee96df06a53b2851"
  },
  {
   "metadata": {},
   "cell_type": "code",
   "source": [
    "# Column names\n",
    "df.columns"
   ],
   "id": "4eeb40cfbe6ee5f6",
   "outputs": [],
   "execution_count": null
  },
  {
   "metadata": {},
   "cell_type": "markdown",
   "source": "### Data Types",
   "id": "76c1a7eed2ec44cd"
  },
  {
   "metadata": {},
   "cell_type": "code",
   "source": "df.dtypes",
   "id": "8c0d67d61c40aad6",
   "outputs": [],
   "execution_count": null
  },
  {
   "metadata": {},
   "cell_type": "markdown",
   "source": "## Counting Analysis",
   "id": "bcc8e2913109092e"
  },
  {
   "metadata": {},
   "cell_type": "markdown",
   "source": "### Number of Men, Women Sampled",
   "id": "478fd8d99f7969cd"
  },
  {
   "metadata": {},
   "cell_type": "code",
   "source": [
    "# Number of men sampled\n",
    "num_men_sampled = df[df['gender'] == 'Male'].shape[0]\n",
    "num_women_sampled = df[df['gender'] == 'Female'].shape[0]\n",
    "\n",
    "print(f'There were {num_men_sampled} men sampled')\n",
    "print(f'There were {num_women_sampled} women sampled')"
   ],
   "id": "2e1afee3dac58b92",
   "outputs": [],
   "execution_count": null
  },
  {
   "metadata": {},
   "cell_type": "markdown",
   "source": "### Count of Students by Seniority",
   "id": "f55e94268ea7d4cd"
  },
  {
   "metadata": {},
   "cell_type": "code",
   "source": [
    "# Count of students by seniority\n",
    "students_by_seniority = df['seniority'].value_counts()\n",
    "students_by_seniority = students_by_seniority.sort_index()\n",
    "students_by_seniority"
   ],
   "id": "f64c1e521c923b1d",
   "outputs": [],
   "execution_count": null
  },
  {
   "metadata": {},
   "cell_type": "markdown",
   "source": "### Students Experiencing Symptoms",
   "id": "407e0b5d35cba2c9"
  },
  {
   "metadata": {},
   "cell_type": "code",
   "source": [
    "# Count of students who experience depression, anxiety, or panic attacks\n",
    "students_experiencing_symptoms = df[(df['depressed'] == True) | (df['anxiety'] == True) | (df['panic_attacks'] == True)]\n",
    "\n",
    "num_students_experiencing_symptoms = students_experiencing_symptoms.shape[0]\n",
    "print(f'There were {num_students_experiencing_symptoms} students experiencing symptoms out of {num_students} students.')\n"
   ],
   "id": "a15b87fa0fcf8ec0",
   "outputs": [],
   "execution_count": null
  },
  {
   "metadata": {},
   "cell_type": "markdown",
   "source": "### Average Age of Students",
   "id": "ac59820c8df6b7d5"
  },
  {
   "metadata": {},
   "cell_type": "code",
   "source": [
    "# Average age of students\n",
    "average_age = df['age'].mean()\n",
    "print(f'The average age of students is {average_age} years old.')"
   ],
   "id": "ccaa4890818636d9",
   "outputs": [],
   "execution_count": null
  },
  {
   "metadata": {},
   "cell_type": "markdown",
   "source": "### Average Age of Students Experiencing Symptoms",
   "id": "2d5321d2606103c1"
  },
  {
   "metadata": {},
   "cell_type": "code",
   "source": [
    "# Average age of students experiencing symptoms\n",
    "average_age_symptoms = students_experiencing_symptoms['age'].mean()\n",
    "print(f'The average age of students experiencing symptoms is {average_age_symptoms} years old.')"
   ],
   "id": "d8dede6dab211a50",
   "outputs": [],
   "execution_count": null
  },
  {
   "metadata": {},
   "cell_type": "markdown",
   "source": "## Male vs Female Symptoms",
   "id": "1b408c742fdab99c"
  },
  {
   "metadata": {},
   "cell_type": "markdown",
   "source": "### Depression",
   "id": "eff68593c370fa8e"
  },
  {
   "metadata": {},
   "cell_type": "code",
   "source": [
    "num_females_with_depression = students_experiencing_symptoms[students_experiencing_symptoms['gender'] == 'Female']['depressed'].sum()\n",
    "num_males_with_depression = students_experiencing_symptoms[students_experiencing_symptoms['gender'] == 'Male']['depressed'].sum()\n",
    "\n",
    "female_depression_percent = num_females_with_depression / num_women_sampled * 100\n",
    "male_depression_percent = num_males_with_depression / num_men_sampled * 100\n",
    "\n",
    "print(f'The prevalence of depression in women was {female_depression_percent:.2f}% and the prevalence of depression in men was {male_depression_percent:.2f}%.')"
   ],
   "id": "6f63a2595fb00b8d",
   "outputs": [],
   "execution_count": null
  },
  {
   "metadata": {},
   "cell_type": "markdown",
   "source": "### Anxiety",
   "id": "bad8ac16b7041a35"
  },
  {
   "metadata": {},
   "cell_type": "code",
   "source": [
    "num_females_with_anxiety = students_experiencing_symptoms[students_experiencing_symptoms['gender'] == 'Female']['anxiety'].sum()\n",
    "num_males_with_anxiety = students_experiencing_symptoms[students_experiencing_symptoms['gender'] == 'Male']['anxiety'].sum()\n",
    "\n",
    "female_anxiety_percent = num_females_with_anxiety / num_women_sampled * 100\n",
    "male_anxiety_percent = num_males_with_anxiety / num_men_sampled * 100\n",
    "\n",
    "print(f'The prevalence of anxiety in women was {female_anxiety_percent:.2f}% and the prevalence of anxiety in men was {male_anxiety_percent:.2f}%.')"
   ],
   "id": "1571ad6818508e59",
   "outputs": [],
   "execution_count": null
  },
  {
   "metadata": {},
   "cell_type": "markdown",
   "source": "## Correlation between Anxiety and Panic Attacks",
   "id": "7abe54c347217baa"
  },
  {
   "metadata": {},
   "cell_type": "code",
   "source": [
    "# Correlation between anxiety and panic attacks\n",
    "correlation = df['anxiety'].corr(df['panic_attacks'])\n",
    "\n",
    "num_with_anxiety_and_panic_attacks = df[(df['anxiety'] == True) & (df['panic_attacks'] == True)].shape[0]\n",
    "num_with_either_anxiety_or_panic_attacks = df[(df['anxiety'] == True) | (df['panic_attacks'] == True)].shape[0]\n",
    "\n",
    "percent_with_both = num_with_anxiety_and_panic_attacks / num_with_either_anxiety_or_panic_attacks * 100\n",
    "print(f'The percentage of students with both anxiety and panic attacks is {percent_with_both:.2f}%.')\n",
    "\n",
    "print(f'The correlation between anxiety and panic attacks is {correlation:.2f}.')"
   ],
   "id": "580ce610d361c29d",
   "outputs": [],
   "execution_count": null
  }
 ],
 "metadata": {
  "kernelspec": {
   "display_name": "Python 3",
   "language": "python",
   "name": "python3"
  },
  "language_info": {
   "codemirror_mode": {
    "name": "ipython",
    "version": 2
   },
   "file_extension": ".py",
   "mimetype": "text/x-python",
   "name": "python",
   "nbconvert_exporter": "python",
   "pygments_lexer": "ipython2",
   "version": "2.7.6"
  }
 },
 "nbformat": 4,
 "nbformat_minor": 5
}
