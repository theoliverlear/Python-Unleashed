{
 "cells": [
  {
   "metadata": {},
   "cell_type": "markdown",
   "source": [
    "# Exercise 4: Predict Bitcoin Price with Machine Learning\n",
    "The dataset contains the prices of Bitcoin over time. You need to use TensorFlow, Scikit-learn, and Keras to predict the _next_ price of Bitcoin."
   ],
   "id": "375a560c051cf4ae"
  },
  {
   "metadata": {},
   "cell_type": "markdown",
   "source": "## Import Libraries",
   "id": "55bda2fed507169f"
  },
  {
   "cell_type": "code",
   "id": "initial_id",
   "metadata": {
    "collapsed": true
   },
   "source": "# Your code here.",
   "outputs": [],
   "execution_count": null
  },
  {
   "metadata": {},
   "cell_type": "markdown",
   "source": "## Create Dataframe",
   "id": "e77257d78d98bff7"
  },
  {
   "metadata": {},
   "cell_type": "markdown",
   "source": "### Bitcoin Price",
   "id": "11a4003cfdf5c2c1"
  },
  {
   "metadata": {},
   "cell_type": "code",
   "source": [
    "# Your code here.\n",
    "# File location: \"../datasets/exercise/bitcoin_price.csv\""
   ],
   "id": "c3b43a6d29f773c0",
   "outputs": [],
   "execution_count": null
  },
  {
   "metadata": {},
   "cell_type": "markdown",
   "source": "## Clean Dataframe",
   "id": "ffc96abc359ede5d"
  },
  {
   "metadata": {},
   "cell_type": "markdown",
   "source": "### Create Datetime Objects",
   "id": "1be90770e469f08f"
  },
  {
   "metadata": {},
   "cell_type": "code",
   "source": [
    "# Use Python to create datetime objects.\n",
    "# Sort the dataframe by date.\n",
    "# Handle NaNs."
   ],
   "id": "b4c3d3b789526fb6",
   "outputs": [],
   "execution_count": null
  },
  {
   "metadata": {},
   "cell_type": "markdown",
   "source": "## Mark Features and Create Target",
   "id": "9bcb306001ff8a3b"
  },
  {
   "metadata": {},
   "cell_type": "code",
   "source": [
    "# Create features list.\n",
    "# Create Target Column.\n",
    "# Save features and target columns."
   ],
   "id": "5e0662262c330f60",
   "outputs": [],
   "execution_count": null
  },
  {
   "metadata": {},
   "cell_type": "markdown",
   "source": "## Fitting the Data Between 0 and 1",
   "id": "faa01587e3e7b1bc"
  },
  {
   "metadata": {},
   "cell_type": "code",
   "source": [
    "# Create a scaler for features.\n",
    "# Scale the features.\n",
    "\n",
    "# Create a scaler for target.\n",
    "# Scale the target."
   ],
   "id": "728723d28cf26c25",
   "outputs": [],
   "execution_count": null
  },
  {
   "metadata": {},
   "cell_type": "markdown",
   "source": "## Split Between Train and Test Sets",
   "id": "dbd6c3b5845c6450"
  },
  {
   "metadata": {},
   "cell_type": "code",
   "source": "# Your code here.",
   "id": "e32d51d655d0c3d",
   "outputs": [],
   "execution_count": null
  },
  {
   "metadata": {},
   "cell_type": "markdown",
   "source": "## Create a Neural Network Model",
   "id": "d38db03d39ca5f72"
  },
  {
   "metadata": {},
   "cell_type": "code",
   "source": "# Your code here.",
   "id": "d9d735265256bd8a",
   "outputs": [],
   "execution_count": null
  },
  {
   "metadata": {},
   "cell_type": "markdown",
   "source": "## Compile the Model",
   "id": "5516976797bf3e37"
  },
  {
   "metadata": {},
   "cell_type": "code",
   "source": "# Your code here.",
   "id": "82a434f0dfbd2eaa",
   "outputs": [],
   "execution_count": null
  },
  {
   "metadata": {},
   "cell_type": "markdown",
   "source": "## Train the Model",
   "id": "f84e72984e368307"
  },
  {
   "metadata": {},
   "cell_type": "code",
   "source": "# Your code here.",
   "id": "dece989f5430d76f",
   "outputs": [],
   "execution_count": null
  },
  {
   "metadata": {},
   "cell_type": "markdown",
   "source": "## Analyze Model's Performance",
   "id": "ea08d234d9b5faeb"
  },
  {
   "metadata": {},
   "cell_type": "code",
   "source": "# Your code here.",
   "id": "726c64390f5623ed",
   "outputs": [],
   "execution_count": null
  },
  {
   "metadata": {},
   "cell_type": "markdown",
   "source": "## Make a Prediction with Machine Learning",
   "id": "18185588c81739b0"
  },
  {
   "metadata": {},
   "cell_type": "code",
   "source": [
    "## Get the last record.\n",
    "# Get the predicted price.\n",
    "# Inverse the scaled prediction."
   ],
   "id": "95cae70546715d94",
   "outputs": [],
   "execution_count": null
  }
 ],
 "metadata": {
  "kernelspec": {
   "display_name": "Python 3",
   "language": "python",
   "name": "python3"
  },
  "language_info": {
   "codemirror_mode": {
    "name": "ipython",
    "version": 2
   },
   "file_extension": ".py",
   "mimetype": "text/x-python",
   "name": "python",
   "nbconvert_exporter": "python",
   "pygments_lexer": "ipython2",
   "version": "2.7.6"
  }
 },
 "nbformat": 4,
 "nbformat_minor": 5
}
