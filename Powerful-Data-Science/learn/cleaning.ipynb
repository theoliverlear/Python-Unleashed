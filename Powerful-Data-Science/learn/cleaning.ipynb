{
 "cells": [
  {
   "metadata": {},
   "cell_type": "markdown",
   "source": "# Cleaning Data with Pandas",
   "id": "4010c1f25f718f73"
  },
  {
   "metadata": {},
   "cell_type": "markdown",
   "source": "## Import Libraries",
   "id": "c992d4490759f7b9"
  },
  {
   "metadata": {},
   "cell_type": "code",
   "source": "import pandas as pd",
   "id": "e61292c05b30af34",
   "outputs": [],
   "execution_count": null
  },
  {
   "metadata": {},
   "cell_type": "markdown",
   "source": "## Load the Dataset",
   "id": "16b97b8aaa9c1871"
  },
  {
   "metadata": {},
   "cell_type": "markdown",
   "source": "### Student Mental Health",
   "id": "59faa10b1250cff2"
  },
  {
   "metadata": {},
   "cell_type": "code",
   "source": "df = pd.read_csv(\"../datasets/student_mental_health.csv\")",
   "id": "2ccad2f8721e5857",
   "outputs": [],
   "execution_count": null
  },
  {
   "metadata": {},
   "cell_type": "markdown",
   "source": "## Overview of the Dataset",
   "id": "721fa56e8e7d3d68"
  },
  {
   "metadata": {},
   "cell_type": "code",
   "source": "df.head()",
   "id": "f719cd54508ed932",
   "outputs": [],
   "execution_count": null
  },
  {
   "metadata": {},
   "cell_type": "markdown",
   "source": "## Rename Columns",
   "id": "282084fa0a66de1"
  },
  {
   "metadata": {},
   "cell_type": "code",
   "source": [
    "# Rename all columns to lowercase\n",
    "df.columns = df.columns.str.lower()\n",
    "# Replace column: \"Choose your gender\" with \"gender\"\n",
    "df.rename(columns={\"choose your gender\": \"gender\"}, inplace=True)\n",
    "# Replace column: \"What is your course?\" with \"course\"\n",
    "df.rename(columns={\"what is your course?\": \"course\"}, inplace=True)\n",
    "# Rename column: \"your current year of study\" with \"seniority\"\n",
    "df.rename(columns={\"your current year of study\": \"seniority\"}, inplace=True)\n",
    "# Replace multiple columns at the same time\n",
    "df.rename(columns={\n",
    "    \"what is your cgpa?\": \"gpa\",\n",
    "    \"marital status\": \"married\",\n",
    "    \"do you have depression?\": \"depressed\",\n",
    "    \"do you have anxiety?\": \"anxiety\",\n",
    "    \"do you have panic attack?\": \"panic_attacks\",\n",
    "    \"did you seek any specialist for a treatment?\": \"treatment\"\n",
    "}, inplace=True)"
   ],
   "id": "5226d09efd952391",
   "outputs": [],
   "execution_count": null
  },
  {
   "metadata": {},
   "cell_type": "markdown",
   "source": "## View Updated Columns",
   "id": "4b03538f13c09a21"
  },
  {
   "metadata": {},
   "cell_type": "code",
   "source": "df.head()",
   "id": "7cb839caa6e034ee",
   "outputs": [],
   "execution_count": null
  },
  {
   "metadata": {},
   "cell_type": "markdown",
   "source": "## Refactor Column Values",
   "id": "9b8af0c2cf1b3c65"
  },
  {
   "metadata": {},
   "cell_type": "markdown",
   "source": "### Seniority String to Integer",
   "id": "33539b7ece9d0e92"
  },
  {
   "metadata": {},
   "cell_type": "code",
   "source": [
    "# Change seniority to integer and remove extra words\n",
    "df[\"seniority\"] = df[\"seniority\"].str.lower()\n",
    "df[\"seniority\"] = df[\"seniority\"].str.replace(\"year \", \"\").astype(int)\n",
    "df.head()"
   ],
   "id": "fb77384b136f0b8b",
   "outputs": [],
   "execution_count": null
  },
  {
   "metadata": {},
   "cell_type": "markdown",
   "source": "### Age Column to Integer",
   "id": "2763ce47ea99b7f5"
  },
  {
   "metadata": {},
   "cell_type": "code",
   "source": [
    "# Drop NaNs\n",
    "df = df.dropna(subset=[\"age\"])\n",
    "df[\"age\"] = df[\"age\"].astype(int)\n",
    "df.head()"
   ],
   "id": "b9c3cecfcc44f7dc",
   "outputs": [],
   "execution_count": null
  },
  {
   "metadata": {},
   "cell_type": "markdown",
   "source": "### Yes and Nos to True and False",
   "id": "6e601dcc5ff1ec0c"
  },
  {
   "metadata": {},
   "cell_type": "code",
   "source": [
    "columns_to_convert = [\n",
    "    \"married\",\n",
    "    \"depressed\",\n",
    "    \"anxiety\",\n",
    "    \"panic_attacks\",\n",
    "    \"treatment\"\n",
    "]\n",
    "# Convert Yes and No to True and False\n",
    "df[columns_to_convert] = df[columns_to_convert].replace({\n",
    "    \"Yes\": True,\n",
    "    \"No\": False\n",
    "})\n",
    "# Set Data Types\n",
    "df[columns_to_convert] = df[columns_to_convert].astype(bool)\n",
    "df.head()"
   ],
   "id": "2eb0c6db609d1024",
   "outputs": [],
   "execution_count": null
  },
  {
   "metadata": {},
   "cell_type": "markdown",
   "source": "## Custom Date to Datetime",
   "id": "7ced624a3bbc0a78"
  },
  {
   "metadata": {},
   "cell_type": "code",
   "source": [
    "# Convert 'timestamp' column to a valid datetime format\n",
    "df['timestamp'] = pd.to_datetime(df['timestamp'], format='mixed')\n",
    "df.head()"
   ],
   "id": "36252e712e01370c",
   "outputs": [],
   "execution_count": null
  },
  {
   "metadata": {},
   "cell_type": "markdown",
   "source": "# Use the Clean Data Easily",
   "id": "48ecb84dd2baa5e4"
  },
  {
   "metadata": {},
   "cell_type": "code",
   "source": [
    "# Save the cleaned data to a new CSV file\n",
    "df.to_csv(\"../datasets/updated/student_mental_health.csv\", index=False)"
   ],
   "id": "6d7915dd51e3addf",
   "outputs": [],
   "execution_count": null
  }
 ],
 "metadata": {
  "kernelspec": {
   "display_name": "Python 3",
   "language": "python",
   "name": "python3"
  },
  "language_info": {
   "codemirror_mode": {
    "name": "ipython",
    "version": 2
   },
   "file_extension": ".py",
   "mimetype": "text/x-python",
   "name": "python",
   "nbconvert_exporter": "python",
   "pygments_lexer": "ipython2",
   "version": "2.7.6"
  }
 },
 "nbformat": 4,
 "nbformat_minor": 5
}
